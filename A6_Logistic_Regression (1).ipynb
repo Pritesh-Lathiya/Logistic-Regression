{
  "cells": [
    {
      "cell_type": "markdown",
      "source": [
        "# Importing Necessary Library"
      ],
      "metadata": {
        "id": "J-zIFsafWoKC"
      }
    },
    {
      "cell_type": "code",
      "execution_count": null,
      "metadata": {
        "id": "43W-WucrgSeW"
      },
      "outputs": [],
      "source": [
        "import pandas as pd\n",
        "from sklearn.linear_model import LogisticRegression\n",
        "import pickle\n",
        "import seaborn as sns\n",
        "import numpy as np\n",
        "from sklearn.metrics import confusion_matrix\n",
        "from sklearn.metrics import classification_report\n",
        "from sklearn.metrics import accuracy_score\n",
        "from sklearn.model_selection import train_test_split\n",
        "from sklearn import preprocessing\n",
        "from sklearn.model_selection import train_test_split, cross_val_score, LeaveOneOut\n",
        "from sklearn.metrics import roc_curve\n",
        "from sklearn.metrics import roc_auc_score\n",
        "import matplotlib.pyplot as plt\n"
      ]
    },
    {
      "cell_type": "markdown",
      "source": [
        "# Dataset - BankDataset"
      ],
      "metadata": {
        "id": "kDOOFTSVWsj_"
      }
    },
    {
      "cell_type": "code",
      "execution_count": null,
      "metadata": {
        "colab": {
          "base_uri": "https://localhost:8080/",
          "height": 206
        },
        "id": "dNSIIPUQgSed",
        "outputId": "aeb57371-a0d5-48fc-87e6-0eeef805fbe5"
      },
      "outputs": [
        {
          "output_type": "execute_result",
          "data": {
            "text/plain": [
              "   age           job  marital  education default  balance housing loan  \\\n",
              "0   58    management  married   tertiary      no     2143     yes   no   \n",
              "1   44    technician   single  secondary      no       29     yes   no   \n",
              "2   33  entrepreneur  married  secondary      no        2     yes  yes   \n",
              "3   47   blue-collar  married    unknown      no     1506     yes   no   \n",
              "4   33       unknown   single    unknown      no        1      no   no   \n",
              "\n",
              "   contact  day month  duration  campaign  pdays  previous poutcome   y  \n",
              "0  unknown    5   may       261         1     -1         0  unknown  no  \n",
              "1  unknown    5   may       151         1     -1         0  unknown  no  \n",
              "2  unknown    5   may        76         1     -1         0  unknown  no  \n",
              "3  unknown    5   may        92         1     -1         0  unknown  no  \n",
              "4  unknown    5   may       198         1     -1         0  unknown  no  "
            ],
            "text/html": [
              "\n",
              "  <div id=\"df-08b856fa-01ac-4a19-96b8-51aa44e5b20c\">\n",
              "    <div class=\"colab-df-container\">\n",
              "      <div>\n",
              "<style scoped>\n",
              "    .dataframe tbody tr th:only-of-type {\n",
              "        vertical-align: middle;\n",
              "    }\n",
              "\n",
              "    .dataframe tbody tr th {\n",
              "        vertical-align: top;\n",
              "    }\n",
              "\n",
              "    .dataframe thead th {\n",
              "        text-align: right;\n",
              "    }\n",
              "</style>\n",
              "<table border=\"1\" class=\"dataframe\">\n",
              "  <thead>\n",
              "    <tr style=\"text-align: right;\">\n",
              "      <th></th>\n",
              "      <th>age</th>\n",
              "      <th>job</th>\n",
              "      <th>marital</th>\n",
              "      <th>education</th>\n",
              "      <th>default</th>\n",
              "      <th>balance</th>\n",
              "      <th>housing</th>\n",
              "      <th>loan</th>\n",
              "      <th>contact</th>\n",
              "      <th>day</th>\n",
              "      <th>month</th>\n",
              "      <th>duration</th>\n",
              "      <th>campaign</th>\n",
              "      <th>pdays</th>\n",
              "      <th>previous</th>\n",
              "      <th>poutcome</th>\n",
              "      <th>y</th>\n",
              "    </tr>\n",
              "  </thead>\n",
              "  <tbody>\n",
              "    <tr>\n",
              "      <th>0</th>\n",
              "      <td>58</td>\n",
              "      <td>management</td>\n",
              "      <td>married</td>\n",
              "      <td>tertiary</td>\n",
              "      <td>no</td>\n",
              "      <td>2143</td>\n",
              "      <td>yes</td>\n",
              "      <td>no</td>\n",
              "      <td>unknown</td>\n",
              "      <td>5</td>\n",
              "      <td>may</td>\n",
              "      <td>261</td>\n",
              "      <td>1</td>\n",
              "      <td>-1</td>\n",
              "      <td>0</td>\n",
              "      <td>unknown</td>\n",
              "      <td>no</td>\n",
              "    </tr>\n",
              "    <tr>\n",
              "      <th>1</th>\n",
              "      <td>44</td>\n",
              "      <td>technician</td>\n",
              "      <td>single</td>\n",
              "      <td>secondary</td>\n",
              "      <td>no</td>\n",
              "      <td>29</td>\n",
              "      <td>yes</td>\n",
              "      <td>no</td>\n",
              "      <td>unknown</td>\n",
              "      <td>5</td>\n",
              "      <td>may</td>\n",
              "      <td>151</td>\n",
              "      <td>1</td>\n",
              "      <td>-1</td>\n",
              "      <td>0</td>\n",
              "      <td>unknown</td>\n",
              "      <td>no</td>\n",
              "    </tr>\n",
              "    <tr>\n",
              "      <th>2</th>\n",
              "      <td>33</td>\n",
              "      <td>entrepreneur</td>\n",
              "      <td>married</td>\n",
              "      <td>secondary</td>\n",
              "      <td>no</td>\n",
              "      <td>2</td>\n",
              "      <td>yes</td>\n",
              "      <td>yes</td>\n",
              "      <td>unknown</td>\n",
              "      <td>5</td>\n",
              "      <td>may</td>\n",
              "      <td>76</td>\n",
              "      <td>1</td>\n",
              "      <td>-1</td>\n",
              "      <td>0</td>\n",
              "      <td>unknown</td>\n",
              "      <td>no</td>\n",
              "    </tr>\n",
              "    <tr>\n",
              "      <th>3</th>\n",
              "      <td>47</td>\n",
              "      <td>blue-collar</td>\n",
              "      <td>married</td>\n",
              "      <td>unknown</td>\n",
              "      <td>no</td>\n",
              "      <td>1506</td>\n",
              "      <td>yes</td>\n",
              "      <td>no</td>\n",
              "      <td>unknown</td>\n",
              "      <td>5</td>\n",
              "      <td>may</td>\n",
              "      <td>92</td>\n",
              "      <td>1</td>\n",
              "      <td>-1</td>\n",
              "      <td>0</td>\n",
              "      <td>unknown</td>\n",
              "      <td>no</td>\n",
              "    </tr>\n",
              "    <tr>\n",
              "      <th>4</th>\n",
              "      <td>33</td>\n",
              "      <td>unknown</td>\n",
              "      <td>single</td>\n",
              "      <td>unknown</td>\n",
              "      <td>no</td>\n",
              "      <td>1</td>\n",
              "      <td>no</td>\n",
              "      <td>no</td>\n",
              "      <td>unknown</td>\n",
              "      <td>5</td>\n",
              "      <td>may</td>\n",
              "      <td>198</td>\n",
              "      <td>1</td>\n",
              "      <td>-1</td>\n",
              "      <td>0</td>\n",
              "      <td>unknown</td>\n",
              "      <td>no</td>\n",
              "    </tr>\n",
              "  </tbody>\n",
              "</table>\n",
              "</div>\n",
              "      <button class=\"colab-df-convert\" onclick=\"convertToInteractive('df-08b856fa-01ac-4a19-96b8-51aa44e5b20c')\"\n",
              "              title=\"Convert this dataframe to an interactive table.\"\n",
              "              style=\"display:none;\">\n",
              "        \n",
              "  <svg xmlns=\"http://www.w3.org/2000/svg\" height=\"24px\"viewBox=\"0 0 24 24\"\n",
              "       width=\"24px\">\n",
              "    <path d=\"M0 0h24v24H0V0z\" fill=\"none\"/>\n",
              "    <path d=\"M18.56 5.44l.94 2.06.94-2.06 2.06-.94-2.06-.94-.94-2.06-.94 2.06-2.06.94zm-11 1L8.5 8.5l.94-2.06 2.06-.94-2.06-.94L8.5 2.5l-.94 2.06-2.06.94zm10 10l.94 2.06.94-2.06 2.06-.94-2.06-.94-.94-2.06-.94 2.06-2.06.94z\"/><path d=\"M17.41 7.96l-1.37-1.37c-.4-.4-.92-.59-1.43-.59-.52 0-1.04.2-1.43.59L10.3 9.45l-7.72 7.72c-.78.78-.78 2.05 0 2.83L4 21.41c.39.39.9.59 1.41.59.51 0 1.02-.2 1.41-.59l7.78-7.78 2.81-2.81c.8-.78.8-2.07 0-2.86zM5.41 20L4 18.59l7.72-7.72 1.47 1.35L5.41 20z\"/>\n",
              "  </svg>\n",
              "      </button>\n",
              "      \n",
              "  <style>\n",
              "    .colab-df-container {\n",
              "      display:flex;\n",
              "      flex-wrap:wrap;\n",
              "      gap: 12px;\n",
              "    }\n",
              "\n",
              "    .colab-df-convert {\n",
              "      background-color: #E8F0FE;\n",
              "      border: none;\n",
              "      border-radius: 50%;\n",
              "      cursor: pointer;\n",
              "      display: none;\n",
              "      fill: #1967D2;\n",
              "      height: 32px;\n",
              "      padding: 0 0 0 0;\n",
              "      width: 32px;\n",
              "    }\n",
              "\n",
              "    .colab-df-convert:hover {\n",
              "      background-color: #E2EBFA;\n",
              "      box-shadow: 0px 1px 2px rgba(60, 64, 67, 0.3), 0px 1px 3px 1px rgba(60, 64, 67, 0.15);\n",
              "      fill: #174EA6;\n",
              "    }\n",
              "\n",
              "    [theme=dark] .colab-df-convert {\n",
              "      background-color: #3B4455;\n",
              "      fill: #D2E3FC;\n",
              "    }\n",
              "\n",
              "    [theme=dark] .colab-df-convert:hover {\n",
              "      background-color: #434B5C;\n",
              "      box-shadow: 0px 1px 3px 1px rgba(0, 0, 0, 0.15);\n",
              "      filter: drop-shadow(0px 1px 2px rgba(0, 0, 0, 0.3));\n",
              "      fill: #FFFFFF;\n",
              "    }\n",
              "  </style>\n",
              "\n",
              "      <script>\n",
              "        const buttonEl =\n",
              "          document.querySelector('#df-08b856fa-01ac-4a19-96b8-51aa44e5b20c button.colab-df-convert');\n",
              "        buttonEl.style.display =\n",
              "          google.colab.kernel.accessAllowed ? 'block' : 'none';\n",
              "\n",
              "        async function convertToInteractive(key) {\n",
              "          const element = document.querySelector('#df-08b856fa-01ac-4a19-96b8-51aa44e5b20c');\n",
              "          const dataTable =\n",
              "            await google.colab.kernel.invokeFunction('convertToInteractive',\n",
              "                                                     [key], {});\n",
              "          if (!dataTable) return;\n",
              "\n",
              "          const docLinkHtml = 'Like what you see? Visit the ' +\n",
              "            '<a target=\"_blank\" href=https://colab.research.google.com/notebooks/data_table.ipynb>data table notebook</a>'\n",
              "            + ' to learn more about interactive tables.';\n",
              "          element.innerHTML = '';\n",
              "          dataTable['output_type'] = 'display_data';\n",
              "          await google.colab.output.renderOutput(dataTable, element);\n",
              "          const docLink = document.createElement('div');\n",
              "          docLink.innerHTML = docLinkHtml;\n",
              "          element.appendChild(docLink);\n",
              "        }\n",
              "      </script>\n",
              "    </div>\n",
              "  </div>\n",
              "  "
            ]
          },
          "metadata": {},
          "execution_count": 677
        }
      ],
      "source": [
        "#Load the data set\n",
        "df = pd.read_csv(\"/content/bank-full.csv\", sep = ';')\n",
        "df.head()"
      ]
    },
    {
      "cell_type": "markdown",
      "source": [
        "# Information of Dataset"
      ],
      "metadata": {
        "id": "tONatsLZWy4e"
      }
    },
    {
      "cell_type": "code",
      "execution_count": null,
      "metadata": {
        "colab": {
          "base_uri": "https://localhost:8080/"
        },
        "id": "Dr9JZDPVUnXN",
        "outputId": "fcd98db9-f3c6-4006-f7af-9dad5c3561c0"
      },
      "outputs": [
        {
          "output_type": "execute_result",
          "data": {
            "text/plain": [
              "(45211, 17)"
            ]
          },
          "metadata": {},
          "execution_count": 678
        }
      ],
      "source": [
        "df.shape"
      ]
    },
    {
      "cell_type": "code",
      "source": [
        "df.info()"
      ],
      "metadata": {
        "colab": {
          "base_uri": "https://localhost:8080/"
        },
        "id": "MtUT4p2U7yVw",
        "outputId": "e1b8179d-8288-4534-cd59-450bd2c750e1"
      },
      "execution_count": null,
      "outputs": [
        {
          "output_type": "stream",
          "name": "stdout",
          "text": [
            "<class 'pandas.core.frame.DataFrame'>\n",
            "RangeIndex: 45211 entries, 0 to 45210\n",
            "Data columns (total 17 columns):\n",
            " #   Column     Non-Null Count  Dtype \n",
            "---  ------     --------------  ----- \n",
            " 0   age        45211 non-null  int64 \n",
            " 1   job        45211 non-null  object\n",
            " 2   marital    45211 non-null  object\n",
            " 3   education  45211 non-null  object\n",
            " 4   default    45211 non-null  object\n",
            " 5   balance    45211 non-null  int64 \n",
            " 6   housing    45211 non-null  object\n",
            " 7   loan       45211 non-null  object\n",
            " 8   contact    45211 non-null  object\n",
            " 9   day        45211 non-null  int64 \n",
            " 10  month      45211 non-null  object\n",
            " 11  duration   45211 non-null  int64 \n",
            " 12  campaign   45211 non-null  int64 \n",
            " 13  pdays      45211 non-null  int64 \n",
            " 14  previous   45211 non-null  int64 \n",
            " 15  poutcome   45211 non-null  object\n",
            " 16  y          45211 non-null  object\n",
            "dtypes: int64(7), object(10)\n",
            "memory usage: 5.9+ MB\n"
          ]
        }
      ]
    },
    {
      "cell_type": "markdown",
      "source": [
        ">There are 45,211 rows and 17 columns in the dataset, There is no null value in the dataset.\n"
      ],
      "metadata": {
        "id": "SbPev8hXb15L"
      }
    },
    {
      "cell_type": "code",
      "source": [
        "df.columns"
      ],
      "metadata": {
        "colab": {
          "base_uri": "https://localhost:8080/"
        },
        "id": "BIb5XgZOds9i",
        "outputId": "5bbf1645-6ce3-41b1-d944-793664cde951"
      },
      "execution_count": null,
      "outputs": [
        {
          "output_type": "execute_result",
          "data": {
            "text/plain": [
              "Index(['age', 'job', 'marital', 'education', 'default', 'balance', 'housing',\n",
              "       'loan', 'contact', 'day', 'month', 'duration', 'campaign', 'pdays',\n",
              "       'previous', 'poutcome', 'y'],\n",
              "      dtype='object')"
            ]
          },
          "metadata": {},
          "execution_count": 680
        }
      ]
    },
    {
      "cell_type": "code",
      "source": [
        "for i in df.columns:\n",
        "    print(i, '\\n', df[i].value_counts(),'\\n', '\\n')"
      ],
      "metadata": {
        "colab": {
          "base_uri": "https://localhost:8080/"
        },
        "id": "-SDSyKwk23pl",
        "outputId": "95f72937-4856-44ee-8e4f-c142ecad735b"
      },
      "execution_count": null,
      "outputs": [
        {
          "output_type": "stream",
          "name": "stdout",
          "text": [
            "age \n",
            " 32    2085\n",
            "31    1996\n",
            "33    1972\n",
            "34    1930\n",
            "35    1894\n",
            "36    1806\n",
            "30    1757\n",
            "37    1696\n",
            "39    1487\n",
            "38    1466\n",
            "40    1355\n",
            "41    1291\n",
            "42    1242\n",
            "45    1216\n",
            "29    1185\n",
            "46    1175\n",
            "43    1161\n",
            "44    1136\n",
            "47    1088\n",
            "28    1038\n",
            "48     997\n",
            "49     994\n",
            "50     939\n",
            "51     936\n",
            "52     911\n",
            "27     909\n",
            "53     891\n",
            "57     828\n",
            "54     811\n",
            "55     806\n",
            "26     805\n",
            "56     778\n",
            "59     770\n",
            "58     740\n",
            "60     596\n",
            "25     527\n",
            "24     302\n",
            "23     202\n",
            "61     147\n",
            "22     129\n",
            "62      80\n",
            "21      79\n",
            "63      77\n",
            "64      74\n",
            "70      67\n",
            "66      63\n",
            "65      59\n",
            "71      54\n",
            "67      54\n",
            "72      52\n",
            "20      50\n",
            "73      44\n",
            "77      44\n",
            "69      44\n",
            "75      39\n",
            "74      37\n",
            "68      36\n",
            "19      35\n",
            "76      32\n",
            "80      31\n",
            "78      30\n",
            "79      25\n",
            "83      22\n",
            "82      19\n",
            "81      17\n",
            "18      12\n",
            "86       9\n",
            "84       9\n",
            "85       5\n",
            "87       4\n",
            "89       3\n",
            "92       2\n",
            "93       2\n",
            "90       2\n",
            "95       2\n",
            "88       2\n",
            "94       1\n",
            "Name: age, dtype: int64 \n",
            " \n",
            "\n",
            "job \n",
            " blue-collar      9732\n",
            "management       9458\n",
            "technician       7597\n",
            "admin.           5171\n",
            "services         4154\n",
            "retired          2264\n",
            "self-employed    1579\n",
            "entrepreneur     1487\n",
            "unemployed       1303\n",
            "housemaid        1240\n",
            "student           938\n",
            "unknown           288\n",
            "Name: job, dtype: int64 \n",
            " \n",
            "\n",
            "marital \n",
            " married     27214\n",
            "single      12790\n",
            "divorced     5207\n",
            "Name: marital, dtype: int64 \n",
            " \n",
            "\n",
            "education \n",
            " secondary    23202\n",
            "tertiary     13301\n",
            "primary       6851\n",
            "unknown       1857\n",
            "Name: education, dtype: int64 \n",
            " \n",
            "\n",
            "default \n",
            " no     44396\n",
            "yes      815\n",
            "Name: default, dtype: int64 \n",
            " \n",
            "\n",
            "balance \n",
            "  0        3514\n",
            " 1         195\n",
            " 2         156\n",
            " 4         139\n",
            " 3         134\n",
            "          ... \n",
            "-381         1\n",
            " 4617        1\n",
            " 20584       1\n",
            " 4358        1\n",
            " 16353       1\n",
            "Name: balance, Length: 7168, dtype: int64 \n",
            " \n",
            "\n",
            "housing \n",
            " yes    25130\n",
            "no     20081\n",
            "Name: housing, dtype: int64 \n",
            " \n",
            "\n",
            "loan \n",
            " no     37967\n",
            "yes     7244\n",
            "Name: loan, dtype: int64 \n",
            " \n",
            "\n",
            "contact \n",
            " cellular     29285\n",
            "unknown      13020\n",
            "telephone     2906\n",
            "Name: contact, dtype: int64 \n",
            " \n",
            "\n",
            "day \n",
            " 20    2752\n",
            "18    2308\n",
            "21    2026\n",
            "17    1939\n",
            "6     1932\n",
            "5     1910\n",
            "14    1848\n",
            "8     1842\n",
            "28    1830\n",
            "7     1817\n",
            "19    1757\n",
            "29    1745\n",
            "15    1703\n",
            "12    1603\n",
            "13    1585\n",
            "30    1566\n",
            "9     1561\n",
            "11    1479\n",
            "4     1445\n",
            "16    1415\n",
            "2     1293\n",
            "27    1121\n",
            "3     1079\n",
            "26    1035\n",
            "23     939\n",
            "22     905\n",
            "25     840\n",
            "31     643\n",
            "10     524\n",
            "24     447\n",
            "1      322\n",
            "Name: day, dtype: int64 \n",
            " \n",
            "\n",
            "month \n",
            " may    13766\n",
            "jul     6895\n",
            "aug     6247\n",
            "jun     5341\n",
            "nov     3970\n",
            "apr     2932\n",
            "feb     2649\n",
            "jan     1403\n",
            "oct      738\n",
            "sep      579\n",
            "mar      477\n",
            "dec      214\n",
            "Name: month, dtype: int64 \n",
            " \n",
            "\n",
            "duration \n",
            " 124     188\n",
            "90      184\n",
            "89      177\n",
            "104     175\n",
            "122     175\n",
            "       ... \n",
            "1833      1\n",
            "1545      1\n",
            "1352      1\n",
            "1342      1\n",
            "1556      1\n",
            "Name: duration, Length: 1573, dtype: int64 \n",
            " \n",
            "\n",
            "campaign \n",
            " 1     17544\n",
            "2     12505\n",
            "3      5521\n",
            "4      3522\n",
            "5      1764\n",
            "6      1291\n",
            "7       735\n",
            "8       540\n",
            "9       327\n",
            "10      266\n",
            "11      201\n",
            "12      155\n",
            "13      133\n",
            "14       93\n",
            "15       84\n",
            "16       79\n",
            "17       69\n",
            "18       51\n",
            "19       44\n",
            "20       43\n",
            "21       35\n",
            "22       23\n",
            "25       22\n",
            "23       22\n",
            "24       20\n",
            "29       16\n",
            "28       16\n",
            "26       13\n",
            "31       12\n",
            "27       10\n",
            "32        9\n",
            "30        8\n",
            "33        6\n",
            "34        5\n",
            "36        4\n",
            "35        4\n",
            "43        3\n",
            "38        3\n",
            "37        2\n",
            "50        2\n",
            "41        2\n",
            "46        1\n",
            "58        1\n",
            "55        1\n",
            "63        1\n",
            "51        1\n",
            "39        1\n",
            "44        1\n",
            "Name: campaign, dtype: int64 \n",
            " \n",
            "\n",
            "pdays \n",
            " -1      36954\n",
            " 182      167\n",
            " 92       147\n",
            " 91       126\n",
            " 183      126\n",
            "        ...  \n",
            " 449        1\n",
            " 452        1\n",
            " 648        1\n",
            " 595        1\n",
            " 530        1\n",
            "Name: pdays, Length: 559, dtype: int64 \n",
            " \n",
            "\n",
            "previous \n",
            " 0      36954\n",
            "1       2772\n",
            "2       2106\n",
            "3       1142\n",
            "4        714\n",
            "5        459\n",
            "6        277\n",
            "7        205\n",
            "8        129\n",
            "9         92\n",
            "10        67\n",
            "11        65\n",
            "12        44\n",
            "13        38\n",
            "15        20\n",
            "14        19\n",
            "17        15\n",
            "16        13\n",
            "19        11\n",
            "20         8\n",
            "23         8\n",
            "18         6\n",
            "22         6\n",
            "24         5\n",
            "27         5\n",
            "21         4\n",
            "29         4\n",
            "25         4\n",
            "30         3\n",
            "38         2\n",
            "37         2\n",
            "26         2\n",
            "28         2\n",
            "51         1\n",
            "275        1\n",
            "58         1\n",
            "32         1\n",
            "40         1\n",
            "55         1\n",
            "35         1\n",
            "41         1\n",
            "Name: previous, dtype: int64 \n",
            " \n",
            "\n",
            "poutcome \n",
            " unknown    36959\n",
            "failure     4901\n",
            "other       1840\n",
            "success     1511\n",
            "Name: poutcome, dtype: int64 \n",
            " \n",
            "\n",
            "y \n",
            " no     39922\n",
            "yes     5289\n",
            "Name: y, dtype: int64 \n",
            " \n",
            "\n"
          ]
        }
      ]
    },
    {
      "cell_type": "markdown",
      "source": [
        "**Attribute information For bank dataset**\n",
        "\n",
        "   Input variables:\n",
        "   -> bank client data:\n",
        "   1.  age (numeric)\n",
        "   2.  job : type of job (categorical: \"admin.\",\"unknown\",\"unemployed\",\"management\",\"housemaid\",\"entrepreneur\",\"student\",                 \"blue-collar\",\"self-employed\",\"retired\",\"technician\",\"services\") \n",
        "   3. marital : marital status (categorical: \"married\",\"divorced\",\"single\"; note: \"divorced\" means divorced or widowed)\n",
        "   4. education (categorical: \"unknown\",\"secondary\",\"primary\",\"tertiary\")\n",
        "   5. default: has credit in default? (binary: \"yes\",\"no\")\n",
        "   6. balance: average yearly balance, in euros (numeric) \n",
        "   7. housing: has housing loan? (binary: \"yes\",\"no\")\n",
        "   8. loan: has personal loan? (binary: \"yes\",\"no\")  \n",
        "   9. contact: contact communication type (categorical: \"unknown\",\"telephone\",\"cellular\") \n",
        " "
      ],
      "metadata": {
        "id": "wXKWmrjrdw1n"
      }
    },
    {
      "cell_type": "markdown",
      "source": [
        "  10. day: last contact day of the month (numeric)\n",
        "  11. month: last contact month of year (categorical: \"jan\", \"feb\", \"mar\", ..., \"nov\", \"dec\")\n",
        "  12. duration: last contact duration, in seconds (numeric)\n",
        "  13. campaign: number of contacts performed during this campaign and for this client (numeric, includes last contact)\n",
        "  14. pdays: number of days that passed by after the client was last contacted from a previous campaign (numeric, -1 means client was not previously contacted)\n",
        "  15. previous: number of contacts performed before this campaign and for this client (numeric)\n",
        "  16. poutcome: outcome of the previous marketing campaign (categorical: \"unknown\",\"other\",\"failure\",\"success\")\n",
        "\n",
        "  Output variable (desired target):\n",
        "  17. y - has the client subscribed a term deposit? (binary: \"yes\",\"no\")\n"
      ],
      "metadata": {
        "id": "41ZlxhDiemPS"
      }
    },
    {
      "cell_type": "code",
      "source": [
        "for col in df:\n",
        "    print(f'{col}: {df[col].unique()}')"
      ],
      "metadata": {
        "colab": {
          "base_uri": "https://localhost:8080/"
        },
        "id": "oNVE8cJAfHdT",
        "outputId": "ec71a95a-c06d-41a8-8f1e-72e3d3a1b17c"
      },
      "execution_count": null,
      "outputs": [
        {
          "output_type": "stream",
          "name": "stdout",
          "text": [
            "age: [58 44 33 47 35 28 42 43 41 29 53 57 51 45 60 56 32 25 40 39 52 46 36 49\n",
            " 59 37 50 54 55 48 24 38 31 30 27 34 23 26 61 22 21 20 66 62 83 75 67 70\n",
            " 65 68 64 69 72 71 19 76 85 63 90 82 73 74 78 80 94 79 77 86 95 81 18 89\n",
            " 84 87 92 93 88]\n",
            "job: ['management' 'technician' 'entrepreneur' 'blue-collar' 'unknown'\n",
            " 'retired' 'admin.' 'services' 'self-employed' 'unemployed' 'housemaid'\n",
            " 'student']\n",
            "marital: ['married' 'single' 'divorced']\n",
            "education: ['tertiary' 'secondary' 'unknown' 'primary']\n",
            "default: ['no' 'yes']\n",
            "balance: [ 2143    29     2 ...  8205 14204 16353]\n",
            "housing: ['yes' 'no']\n",
            "loan: ['no' 'yes']\n",
            "contact: ['unknown' 'cellular' 'telephone']\n",
            "day: [ 5  6  7  8  9 12 13 14 15 16 19 20 21 23 26 27 28 29 30  2  3  4 11 17\n",
            " 18 24 25  1 10 22 31]\n",
            "month: ['may' 'jun' 'jul' 'aug' 'oct' 'nov' 'dec' 'jan' 'feb' 'mar' 'apr' 'sep']\n",
            "duration: [ 261  151   76 ... 1298 1246 1556]\n",
            "campaign: [ 1  2  3  5  4  6  7  8  9 10 11 12 13 19 14 24 16 32 18 22 15 17 25 21\n",
            " 43 51 63 41 26 28 55 50 38 23 20 29 31 37 30 46 27 58 33 35 34 36 39 44]\n",
            "pdays: [ -1 151 166  91  86 143 147  89 140 176 101 174 170 167 195 165 129 188\n",
            " 196 172 118 119 104 171 117 164 132 131 123 159 186 111 115 116 173 178\n",
            " 110 152  96 103 150 175 193 181 185 154 145 138 126 180 109 158 168  97\n",
            " 182 127 130 194 125 105 102  26 179  28 183 155 112 120 137 124 187 190\n",
            " 113 162 134 169 189   8 144 191 184 177   5  99 133  93  92  10 100 156\n",
            " 198 106 153 146 128   7 121 160 107  90  27 197 136 139 122 157 149 135\n",
            "  30 114  98 192 163  34  95 141  31 199  94 108  29 268 247 253 226 244\n",
            " 239 245 204 231 238 258 230 254 265  71 223 246 250 266 240 205 261 259\n",
            " 241 260 234 251 225 161 237 262 248 255 220 227 206 224 249 235 228 263\n",
            "   2 270 232 252 207 200 269 233 256 273 272 242 264 208 214 222 271 203\n",
            " 221 202 216 201 257 229 210 217  75 213  73  76 267 211 215  77 236  82\n",
            "   6 209 274   1 243 212 275  80 276   9 279  12 280  88 277  85  84 219\n",
            "  24  21 282  41 294  49 329 307 303 331 308 300  64 314 287 330 332 302\n",
            " 323 318 333  60 326 335 313 312 305 325 327 336 309 328 322  39 316 292\n",
            " 295 310 306 320 317 289  57 321 142 339 301 315 337 334 340 319  17  74\n",
            " 148 341 299 344 342 324 345 346 304 281 343 338  14 347  15 291 348 349\n",
            " 285 350 284  25 283 278  81   4  87  83  79  70  13 293  37  78  63  22\n",
            " 296 355  66  19  35 360 357 354 351 362 358 365 298 286 364 363  47 361\n",
            " 288 366 356 352 359 297 367 353 368  42 290  67 371 370 369  50  36 373\n",
            " 374 372 311 375 378  59 379  40  18  43  20  69  38 385  56  55  44 391\n",
            "  72 390  32  62 399 393  65 377 395 388 389 386  61 412 405 434 394 382\n",
            " 459 440 397 383  68 461 462 463 422  51 457 430 442 403 454 428 392 410\n",
            " 401 474 475 477 478  54 476 380 479  45  46 495  58  48 518  52 515 520\n",
            " 511 536 387 218  33 544 435 436 555 433 446 558 469 616 561 553 384 592\n",
            " 467 585 480 421 667 626 426 595 381 376 648 521 452 449 633 398  53 460\n",
            " 670 551 414 557 687 404 651 686 425 504 578 674 416 586 411 756 450 745\n",
            " 514 417 424 776 396 683 529 439 415 456 407 458 532 481 791 701 531 792\n",
            " 413 445 535 784 419 455 491 431 542 470 472 717 437   3 782 728 828 524\n",
            " 562 761 492 775 579 493 464 760 466 465 656 831 490 432 655 427 749 838\n",
            " 769 587 778 854 779 850 771 594 842 589 603 484 489 486 409 444 680 808\n",
            " 485 503 690 772 774 526 420 528 500 826 804 508 547 805 541 543 871 550\n",
            " 530]\n",
            "previous: [  0   3   1   4   2  11  16   6   5  10  12   7  18   9  21   8  14  15\n",
            "  26  37  13  25  20  27  17  23  38  29  24  51 275  22  19  30  58  28\n",
            "  32  40  55  35  41]\n",
            "poutcome: ['unknown' 'failure' 'other' 'success']\n",
            "y: ['no' 'yes']\n"
          ]
        }
      ]
    },
    {
      "cell_type": "markdown",
      "source": [
        "# Data Cleaning "
      ],
      "metadata": {
        "id": "nEssLL1j90ma"
      }
    },
    {
      "cell_type": "markdown",
      "source": [
        "> Data Cleaning for dataset and each column of dataset"
      ],
      "metadata": {
        "id": "P0M5B1KcZ7u5"
      }
    },
    {
      "cell_type": "markdown",
      "source": [
        "> Data Cleaning Variable-wise"
      ],
      "metadata": {
        "id": "qCNOaYJRcreh"
      }
    },
    {
      "cell_type": "markdown",
      "source": [
        "## Droping Unnecessary Column"
      ],
      "metadata": {
        "id": "vM8ugfOEUGv1"
      }
    },
    {
      "cell_type": "code",
      "source": [
        "df.head()"
      ],
      "metadata": {
        "colab": {
          "base_uri": "https://localhost:8080/",
          "height": 206
        },
        "id": "wXkcxyIB5Xsj",
        "outputId": "0acbfca7-4594-4a6e-bc8d-f2024d126f05"
      },
      "execution_count": null,
      "outputs": [
        {
          "output_type": "execute_result",
          "data": {
            "text/plain": [
              "   age           job  marital  education default  balance housing loan  \\\n",
              "0   58    management  married   tertiary      no     2143     yes   no   \n",
              "1   44    technician   single  secondary      no       29     yes   no   \n",
              "2   33  entrepreneur  married  secondary      no        2     yes  yes   \n",
              "3   47   blue-collar  married    unknown      no     1506     yes   no   \n",
              "4   33       unknown   single    unknown      no        1      no   no   \n",
              "\n",
              "   contact  day month  duration  campaign  pdays  previous poutcome   y  \n",
              "0  unknown    5   may       261         1     -1         0  unknown  no  \n",
              "1  unknown    5   may       151         1     -1         0  unknown  no  \n",
              "2  unknown    5   may        76         1     -1         0  unknown  no  \n",
              "3  unknown    5   may        92         1     -1         0  unknown  no  \n",
              "4  unknown    5   may       198         1     -1         0  unknown  no  "
            ],
            "text/html": [
              "\n",
              "  <div id=\"df-b07cb3ab-f587-40cb-8fb6-48b45c127166\">\n",
              "    <div class=\"colab-df-container\">\n",
              "      <div>\n",
              "<style scoped>\n",
              "    .dataframe tbody tr th:only-of-type {\n",
              "        vertical-align: middle;\n",
              "    }\n",
              "\n",
              "    .dataframe tbody tr th {\n",
              "        vertical-align: top;\n",
              "    }\n",
              "\n",
              "    .dataframe thead th {\n",
              "        text-align: right;\n",
              "    }\n",
              "</style>\n",
              "<table border=\"1\" class=\"dataframe\">\n",
              "  <thead>\n",
              "    <tr style=\"text-align: right;\">\n",
              "      <th></th>\n",
              "      <th>age</th>\n",
              "      <th>job</th>\n",
              "      <th>marital</th>\n",
              "      <th>education</th>\n",
              "      <th>default</th>\n",
              "      <th>balance</th>\n",
              "      <th>housing</th>\n",
              "      <th>loan</th>\n",
              "      <th>contact</th>\n",
              "      <th>day</th>\n",
              "      <th>month</th>\n",
              "      <th>duration</th>\n",
              "      <th>campaign</th>\n",
              "      <th>pdays</th>\n",
              "      <th>previous</th>\n",
              "      <th>poutcome</th>\n",
              "      <th>y</th>\n",
              "    </tr>\n",
              "  </thead>\n",
              "  <tbody>\n",
              "    <tr>\n",
              "      <th>0</th>\n",
              "      <td>58</td>\n",
              "      <td>management</td>\n",
              "      <td>married</td>\n",
              "      <td>tertiary</td>\n",
              "      <td>no</td>\n",
              "      <td>2143</td>\n",
              "      <td>yes</td>\n",
              "      <td>no</td>\n",
              "      <td>unknown</td>\n",
              "      <td>5</td>\n",
              "      <td>may</td>\n",
              "      <td>261</td>\n",
              "      <td>1</td>\n",
              "      <td>-1</td>\n",
              "      <td>0</td>\n",
              "      <td>unknown</td>\n",
              "      <td>no</td>\n",
              "    </tr>\n",
              "    <tr>\n",
              "      <th>1</th>\n",
              "      <td>44</td>\n",
              "      <td>technician</td>\n",
              "      <td>single</td>\n",
              "      <td>secondary</td>\n",
              "      <td>no</td>\n",
              "      <td>29</td>\n",
              "      <td>yes</td>\n",
              "      <td>no</td>\n",
              "      <td>unknown</td>\n",
              "      <td>5</td>\n",
              "      <td>may</td>\n",
              "      <td>151</td>\n",
              "      <td>1</td>\n",
              "      <td>-1</td>\n",
              "      <td>0</td>\n",
              "      <td>unknown</td>\n",
              "      <td>no</td>\n",
              "    </tr>\n",
              "    <tr>\n",
              "      <th>2</th>\n",
              "      <td>33</td>\n",
              "      <td>entrepreneur</td>\n",
              "      <td>married</td>\n",
              "      <td>secondary</td>\n",
              "      <td>no</td>\n",
              "      <td>2</td>\n",
              "      <td>yes</td>\n",
              "      <td>yes</td>\n",
              "      <td>unknown</td>\n",
              "      <td>5</td>\n",
              "      <td>may</td>\n",
              "      <td>76</td>\n",
              "      <td>1</td>\n",
              "      <td>-1</td>\n",
              "      <td>0</td>\n",
              "      <td>unknown</td>\n",
              "      <td>no</td>\n",
              "    </tr>\n",
              "    <tr>\n",
              "      <th>3</th>\n",
              "      <td>47</td>\n",
              "      <td>blue-collar</td>\n",
              "      <td>married</td>\n",
              "      <td>unknown</td>\n",
              "      <td>no</td>\n",
              "      <td>1506</td>\n",
              "      <td>yes</td>\n",
              "      <td>no</td>\n",
              "      <td>unknown</td>\n",
              "      <td>5</td>\n",
              "      <td>may</td>\n",
              "      <td>92</td>\n",
              "      <td>1</td>\n",
              "      <td>-1</td>\n",
              "      <td>0</td>\n",
              "      <td>unknown</td>\n",
              "      <td>no</td>\n",
              "    </tr>\n",
              "    <tr>\n",
              "      <th>4</th>\n",
              "      <td>33</td>\n",
              "      <td>unknown</td>\n",
              "      <td>single</td>\n",
              "      <td>unknown</td>\n",
              "      <td>no</td>\n",
              "      <td>1</td>\n",
              "      <td>no</td>\n",
              "      <td>no</td>\n",
              "      <td>unknown</td>\n",
              "      <td>5</td>\n",
              "      <td>may</td>\n",
              "      <td>198</td>\n",
              "      <td>1</td>\n",
              "      <td>-1</td>\n",
              "      <td>0</td>\n",
              "      <td>unknown</td>\n",
              "      <td>no</td>\n",
              "    </tr>\n",
              "  </tbody>\n",
              "</table>\n",
              "</div>\n",
              "      <button class=\"colab-df-convert\" onclick=\"convertToInteractive('df-b07cb3ab-f587-40cb-8fb6-48b45c127166')\"\n",
              "              title=\"Convert this dataframe to an interactive table.\"\n",
              "              style=\"display:none;\">\n",
              "        \n",
              "  <svg xmlns=\"http://www.w3.org/2000/svg\" height=\"24px\"viewBox=\"0 0 24 24\"\n",
              "       width=\"24px\">\n",
              "    <path d=\"M0 0h24v24H0V0z\" fill=\"none\"/>\n",
              "    <path d=\"M18.56 5.44l.94 2.06.94-2.06 2.06-.94-2.06-.94-.94-2.06-.94 2.06-2.06.94zm-11 1L8.5 8.5l.94-2.06 2.06-.94-2.06-.94L8.5 2.5l-.94 2.06-2.06.94zm10 10l.94 2.06.94-2.06 2.06-.94-2.06-.94-.94-2.06-.94 2.06-2.06.94z\"/><path d=\"M17.41 7.96l-1.37-1.37c-.4-.4-.92-.59-1.43-.59-.52 0-1.04.2-1.43.59L10.3 9.45l-7.72 7.72c-.78.78-.78 2.05 0 2.83L4 21.41c.39.39.9.59 1.41.59.51 0 1.02-.2 1.41-.59l7.78-7.78 2.81-2.81c.8-.78.8-2.07 0-2.86zM5.41 20L4 18.59l7.72-7.72 1.47 1.35L5.41 20z\"/>\n",
              "  </svg>\n",
              "      </button>\n",
              "      \n",
              "  <style>\n",
              "    .colab-df-container {\n",
              "      display:flex;\n",
              "      flex-wrap:wrap;\n",
              "      gap: 12px;\n",
              "    }\n",
              "\n",
              "    .colab-df-convert {\n",
              "      background-color: #E8F0FE;\n",
              "      border: none;\n",
              "      border-radius: 50%;\n",
              "      cursor: pointer;\n",
              "      display: none;\n",
              "      fill: #1967D2;\n",
              "      height: 32px;\n",
              "      padding: 0 0 0 0;\n",
              "      width: 32px;\n",
              "    }\n",
              "\n",
              "    .colab-df-convert:hover {\n",
              "      background-color: #E2EBFA;\n",
              "      box-shadow: 0px 1px 2px rgba(60, 64, 67, 0.3), 0px 1px 3px 1px rgba(60, 64, 67, 0.15);\n",
              "      fill: #174EA6;\n",
              "    }\n",
              "\n",
              "    [theme=dark] .colab-df-convert {\n",
              "      background-color: #3B4455;\n",
              "      fill: #D2E3FC;\n",
              "    }\n",
              "\n",
              "    [theme=dark] .colab-df-convert:hover {\n",
              "      background-color: #434B5C;\n",
              "      box-shadow: 0px 1px 3px 1px rgba(0, 0, 0, 0.15);\n",
              "      filter: drop-shadow(0px 1px 2px rgba(0, 0, 0, 0.3));\n",
              "      fill: #FFFFFF;\n",
              "    }\n",
              "  </style>\n",
              "\n",
              "      <script>\n",
              "        const buttonEl =\n",
              "          document.querySelector('#df-b07cb3ab-f587-40cb-8fb6-48b45c127166 button.colab-df-convert');\n",
              "        buttonEl.style.display =\n",
              "          google.colab.kernel.accessAllowed ? 'block' : 'none';\n",
              "\n",
              "        async function convertToInteractive(key) {\n",
              "          const element = document.querySelector('#df-b07cb3ab-f587-40cb-8fb6-48b45c127166');\n",
              "          const dataTable =\n",
              "            await google.colab.kernel.invokeFunction('convertToInteractive',\n",
              "                                                     [key], {});\n",
              "          if (!dataTable) return;\n",
              "\n",
              "          const docLinkHtml = 'Like what you see? Visit the ' +\n",
              "            '<a target=\"_blank\" href=https://colab.research.google.com/notebooks/data_table.ipynb>data table notebook</a>'\n",
              "            + ' to learn more about interactive tables.';\n",
              "          element.innerHTML = '';\n",
              "          dataTable['output_type'] = 'display_data';\n",
              "          await google.colab.output.renderOutput(dataTable, element);\n",
              "          const docLink = document.createElement('div');\n",
              "          docLink.innerHTML = docLinkHtml;\n",
              "          element.appendChild(docLink);\n",
              "        }\n",
              "      </script>\n",
              "    </div>\n",
              "  </div>\n",
              "  "
            ]
          },
          "metadata": {},
          "execution_count": 683
        }
      ]
    },
    {
      "cell_type": "code",
      "source": [
        "df=df.drop(['day'],axis=1)"
      ],
      "metadata": {
        "id": "jscJyzknUJ8v"
      },
      "execution_count": null,
      "outputs": []
    },
    {
      "cell_type": "markdown",
      "source": [
        "## Default"
      ],
      "metadata": {
        "id": "gN33HmkBPMru"
      }
    },
    {
      "cell_type": "code",
      "source": [
        "#defaut features does not play imp role\n",
        "df.groupby(['y','default']).size()"
      ],
      "metadata": {
        "colab": {
          "base_uri": "https://localhost:8080/"
        },
        "id": "FvK8xrxAO8Hs",
        "outputId": "276758cb-9761-4390-a97f-22b84ccbc008"
      },
      "execution_count": null,
      "outputs": [
        {
          "output_type": "execute_result",
          "data": {
            "text/plain": [
              "y    default\n",
              "no   no         39159\n",
              "     yes          763\n",
              "yes  no          5237\n",
              "     yes           52\n",
              "dtype: int64"
            ]
          },
          "metadata": {},
          "execution_count": 685
        }
      ]
    },
    {
      "cell_type": "code",
      "source": [
        "df.drop(['default'],axis=1, inplace=True)"
      ],
      "metadata": {
        "id": "zrvtfzCdPLQL"
      },
      "execution_count": null,
      "outputs": []
    },
    {
      "cell_type": "markdown",
      "source": [
        "## Month"
      ],
      "metadata": {
        "id": "q40rWa7CxWd2"
      }
    },
    {
      "cell_type": "code",
      "source": [
        "df.replace({'month' : { \"jan\" : 1,\"feb\" : 2 , \"mar\":3, \"apr\" :4  ,  \"may\" :5 ,\"jun\" : 6, \n",
        "                       \"jul\" : 7, \"aug\" : 8, \"sep\" : 9,\"oct\" : 10, \"nov\" : 11 ,\"dec\" : 12}})"
      ],
      "metadata": {
        "colab": {
          "base_uri": "https://localhost:8080/",
          "height": 424
        },
        "id": "A20OzSM-zmOH",
        "outputId": "9b122bd6-c04f-46f6-9eea-484a025e64d2"
      },
      "execution_count": null,
      "outputs": [
        {
          "output_type": "execute_result",
          "data": {
            "text/plain": [
              "       age           job   marital  education  balance housing loan  \\\n",
              "0       58    management   married   tertiary     2143     yes   no   \n",
              "1       44    technician    single  secondary       29     yes   no   \n",
              "2       33  entrepreneur   married  secondary        2     yes  yes   \n",
              "3       47   blue-collar   married    unknown     1506     yes   no   \n",
              "4       33       unknown    single    unknown        1      no   no   \n",
              "...    ...           ...       ...        ...      ...     ...  ...   \n",
              "45206   51    technician   married   tertiary      825      no   no   \n",
              "45207   71       retired  divorced    primary     1729      no   no   \n",
              "45208   72       retired   married  secondary     5715      no   no   \n",
              "45209   57   blue-collar   married  secondary      668      no   no   \n",
              "45210   37  entrepreneur   married  secondary     2971      no   no   \n",
              "\n",
              "         contact  month  duration  campaign  pdays  previous poutcome    y  \n",
              "0        unknown      5       261         1     -1         0  unknown   no  \n",
              "1        unknown      5       151         1     -1         0  unknown   no  \n",
              "2        unknown      5        76         1     -1         0  unknown   no  \n",
              "3        unknown      5        92         1     -1         0  unknown   no  \n",
              "4        unknown      5       198         1     -1         0  unknown   no  \n",
              "...          ...    ...       ...       ...    ...       ...      ...  ...  \n",
              "45206   cellular     11       977         3     -1         0  unknown  yes  \n",
              "45207   cellular     11       456         2     -1         0  unknown  yes  \n",
              "45208   cellular     11      1127         5    184         3  success  yes  \n",
              "45209  telephone     11       508         4     -1         0  unknown   no  \n",
              "45210   cellular     11       361         2    188        11    other   no  \n",
              "\n",
              "[45211 rows x 15 columns]"
            ],
            "text/html": [
              "\n",
              "  <div id=\"df-3ecbd2ed-7f13-4e77-97e3-63dc3f1aed36\">\n",
              "    <div class=\"colab-df-container\">\n",
              "      <div>\n",
              "<style scoped>\n",
              "    .dataframe tbody tr th:only-of-type {\n",
              "        vertical-align: middle;\n",
              "    }\n",
              "\n",
              "    .dataframe tbody tr th {\n",
              "        vertical-align: top;\n",
              "    }\n",
              "\n",
              "    .dataframe thead th {\n",
              "        text-align: right;\n",
              "    }\n",
              "</style>\n",
              "<table border=\"1\" class=\"dataframe\">\n",
              "  <thead>\n",
              "    <tr style=\"text-align: right;\">\n",
              "      <th></th>\n",
              "      <th>age</th>\n",
              "      <th>job</th>\n",
              "      <th>marital</th>\n",
              "      <th>education</th>\n",
              "      <th>balance</th>\n",
              "      <th>housing</th>\n",
              "      <th>loan</th>\n",
              "      <th>contact</th>\n",
              "      <th>month</th>\n",
              "      <th>duration</th>\n",
              "      <th>campaign</th>\n",
              "      <th>pdays</th>\n",
              "      <th>previous</th>\n",
              "      <th>poutcome</th>\n",
              "      <th>y</th>\n",
              "    </tr>\n",
              "  </thead>\n",
              "  <tbody>\n",
              "    <tr>\n",
              "      <th>0</th>\n",
              "      <td>58</td>\n",
              "      <td>management</td>\n",
              "      <td>married</td>\n",
              "      <td>tertiary</td>\n",
              "      <td>2143</td>\n",
              "      <td>yes</td>\n",
              "      <td>no</td>\n",
              "      <td>unknown</td>\n",
              "      <td>5</td>\n",
              "      <td>261</td>\n",
              "      <td>1</td>\n",
              "      <td>-1</td>\n",
              "      <td>0</td>\n",
              "      <td>unknown</td>\n",
              "      <td>no</td>\n",
              "    </tr>\n",
              "    <tr>\n",
              "      <th>1</th>\n",
              "      <td>44</td>\n",
              "      <td>technician</td>\n",
              "      <td>single</td>\n",
              "      <td>secondary</td>\n",
              "      <td>29</td>\n",
              "      <td>yes</td>\n",
              "      <td>no</td>\n",
              "      <td>unknown</td>\n",
              "      <td>5</td>\n",
              "      <td>151</td>\n",
              "      <td>1</td>\n",
              "      <td>-1</td>\n",
              "      <td>0</td>\n",
              "      <td>unknown</td>\n",
              "      <td>no</td>\n",
              "    </tr>\n",
              "    <tr>\n",
              "      <th>2</th>\n",
              "      <td>33</td>\n",
              "      <td>entrepreneur</td>\n",
              "      <td>married</td>\n",
              "      <td>secondary</td>\n",
              "      <td>2</td>\n",
              "      <td>yes</td>\n",
              "      <td>yes</td>\n",
              "      <td>unknown</td>\n",
              "      <td>5</td>\n",
              "      <td>76</td>\n",
              "      <td>1</td>\n",
              "      <td>-1</td>\n",
              "      <td>0</td>\n",
              "      <td>unknown</td>\n",
              "      <td>no</td>\n",
              "    </tr>\n",
              "    <tr>\n",
              "      <th>3</th>\n",
              "      <td>47</td>\n",
              "      <td>blue-collar</td>\n",
              "      <td>married</td>\n",
              "      <td>unknown</td>\n",
              "      <td>1506</td>\n",
              "      <td>yes</td>\n",
              "      <td>no</td>\n",
              "      <td>unknown</td>\n",
              "      <td>5</td>\n",
              "      <td>92</td>\n",
              "      <td>1</td>\n",
              "      <td>-1</td>\n",
              "      <td>0</td>\n",
              "      <td>unknown</td>\n",
              "      <td>no</td>\n",
              "    </tr>\n",
              "    <tr>\n",
              "      <th>4</th>\n",
              "      <td>33</td>\n",
              "      <td>unknown</td>\n",
              "      <td>single</td>\n",
              "      <td>unknown</td>\n",
              "      <td>1</td>\n",
              "      <td>no</td>\n",
              "      <td>no</td>\n",
              "      <td>unknown</td>\n",
              "      <td>5</td>\n",
              "      <td>198</td>\n",
              "      <td>1</td>\n",
              "      <td>-1</td>\n",
              "      <td>0</td>\n",
              "      <td>unknown</td>\n",
              "      <td>no</td>\n",
              "    </tr>\n",
              "    <tr>\n",
              "      <th>...</th>\n",
              "      <td>...</td>\n",
              "      <td>...</td>\n",
              "      <td>...</td>\n",
              "      <td>...</td>\n",
              "      <td>...</td>\n",
              "      <td>...</td>\n",
              "      <td>...</td>\n",
              "      <td>...</td>\n",
              "      <td>...</td>\n",
              "      <td>...</td>\n",
              "      <td>...</td>\n",
              "      <td>...</td>\n",
              "      <td>...</td>\n",
              "      <td>...</td>\n",
              "      <td>...</td>\n",
              "    </tr>\n",
              "    <tr>\n",
              "      <th>45206</th>\n",
              "      <td>51</td>\n",
              "      <td>technician</td>\n",
              "      <td>married</td>\n",
              "      <td>tertiary</td>\n",
              "      <td>825</td>\n",
              "      <td>no</td>\n",
              "      <td>no</td>\n",
              "      <td>cellular</td>\n",
              "      <td>11</td>\n",
              "      <td>977</td>\n",
              "      <td>3</td>\n",
              "      <td>-1</td>\n",
              "      <td>0</td>\n",
              "      <td>unknown</td>\n",
              "      <td>yes</td>\n",
              "    </tr>\n",
              "    <tr>\n",
              "      <th>45207</th>\n",
              "      <td>71</td>\n",
              "      <td>retired</td>\n",
              "      <td>divorced</td>\n",
              "      <td>primary</td>\n",
              "      <td>1729</td>\n",
              "      <td>no</td>\n",
              "      <td>no</td>\n",
              "      <td>cellular</td>\n",
              "      <td>11</td>\n",
              "      <td>456</td>\n",
              "      <td>2</td>\n",
              "      <td>-1</td>\n",
              "      <td>0</td>\n",
              "      <td>unknown</td>\n",
              "      <td>yes</td>\n",
              "    </tr>\n",
              "    <tr>\n",
              "      <th>45208</th>\n",
              "      <td>72</td>\n",
              "      <td>retired</td>\n",
              "      <td>married</td>\n",
              "      <td>secondary</td>\n",
              "      <td>5715</td>\n",
              "      <td>no</td>\n",
              "      <td>no</td>\n",
              "      <td>cellular</td>\n",
              "      <td>11</td>\n",
              "      <td>1127</td>\n",
              "      <td>5</td>\n",
              "      <td>184</td>\n",
              "      <td>3</td>\n",
              "      <td>success</td>\n",
              "      <td>yes</td>\n",
              "    </tr>\n",
              "    <tr>\n",
              "      <th>45209</th>\n",
              "      <td>57</td>\n",
              "      <td>blue-collar</td>\n",
              "      <td>married</td>\n",
              "      <td>secondary</td>\n",
              "      <td>668</td>\n",
              "      <td>no</td>\n",
              "      <td>no</td>\n",
              "      <td>telephone</td>\n",
              "      <td>11</td>\n",
              "      <td>508</td>\n",
              "      <td>4</td>\n",
              "      <td>-1</td>\n",
              "      <td>0</td>\n",
              "      <td>unknown</td>\n",
              "      <td>no</td>\n",
              "    </tr>\n",
              "    <tr>\n",
              "      <th>45210</th>\n",
              "      <td>37</td>\n",
              "      <td>entrepreneur</td>\n",
              "      <td>married</td>\n",
              "      <td>secondary</td>\n",
              "      <td>2971</td>\n",
              "      <td>no</td>\n",
              "      <td>no</td>\n",
              "      <td>cellular</td>\n",
              "      <td>11</td>\n",
              "      <td>361</td>\n",
              "      <td>2</td>\n",
              "      <td>188</td>\n",
              "      <td>11</td>\n",
              "      <td>other</td>\n",
              "      <td>no</td>\n",
              "    </tr>\n",
              "  </tbody>\n",
              "</table>\n",
              "<p>45211 rows × 15 columns</p>\n",
              "</div>\n",
              "      <button class=\"colab-df-convert\" onclick=\"convertToInteractive('df-3ecbd2ed-7f13-4e77-97e3-63dc3f1aed36')\"\n",
              "              title=\"Convert this dataframe to an interactive table.\"\n",
              "              style=\"display:none;\">\n",
              "        \n",
              "  <svg xmlns=\"http://www.w3.org/2000/svg\" height=\"24px\"viewBox=\"0 0 24 24\"\n",
              "       width=\"24px\">\n",
              "    <path d=\"M0 0h24v24H0V0z\" fill=\"none\"/>\n",
              "    <path d=\"M18.56 5.44l.94 2.06.94-2.06 2.06-.94-2.06-.94-.94-2.06-.94 2.06-2.06.94zm-11 1L8.5 8.5l.94-2.06 2.06-.94-2.06-.94L8.5 2.5l-.94 2.06-2.06.94zm10 10l.94 2.06.94-2.06 2.06-.94-2.06-.94-.94-2.06-.94 2.06-2.06.94z\"/><path d=\"M17.41 7.96l-1.37-1.37c-.4-.4-.92-.59-1.43-.59-.52 0-1.04.2-1.43.59L10.3 9.45l-7.72 7.72c-.78.78-.78 2.05 0 2.83L4 21.41c.39.39.9.59 1.41.59.51 0 1.02-.2 1.41-.59l7.78-7.78 2.81-2.81c.8-.78.8-2.07 0-2.86zM5.41 20L4 18.59l7.72-7.72 1.47 1.35L5.41 20z\"/>\n",
              "  </svg>\n",
              "      </button>\n",
              "      \n",
              "  <style>\n",
              "    .colab-df-container {\n",
              "      display:flex;\n",
              "      flex-wrap:wrap;\n",
              "      gap: 12px;\n",
              "    }\n",
              "\n",
              "    .colab-df-convert {\n",
              "      background-color: #E8F0FE;\n",
              "      border: none;\n",
              "      border-radius: 50%;\n",
              "      cursor: pointer;\n",
              "      display: none;\n",
              "      fill: #1967D2;\n",
              "      height: 32px;\n",
              "      padding: 0 0 0 0;\n",
              "      width: 32px;\n",
              "    }\n",
              "\n",
              "    .colab-df-convert:hover {\n",
              "      background-color: #E2EBFA;\n",
              "      box-shadow: 0px 1px 2px rgba(60, 64, 67, 0.3), 0px 1px 3px 1px rgba(60, 64, 67, 0.15);\n",
              "      fill: #174EA6;\n",
              "    }\n",
              "\n",
              "    [theme=dark] .colab-df-convert {\n",
              "      background-color: #3B4455;\n",
              "      fill: #D2E3FC;\n",
              "    }\n",
              "\n",
              "    [theme=dark] .colab-df-convert:hover {\n",
              "      background-color: #434B5C;\n",
              "      box-shadow: 0px 1px 3px 1px rgba(0, 0, 0, 0.15);\n",
              "      filter: drop-shadow(0px 1px 2px rgba(0, 0, 0, 0.3));\n",
              "      fill: #FFFFFF;\n",
              "    }\n",
              "  </style>\n",
              "\n",
              "      <script>\n",
              "        const buttonEl =\n",
              "          document.querySelector('#df-3ecbd2ed-7f13-4e77-97e3-63dc3f1aed36 button.colab-df-convert');\n",
              "        buttonEl.style.display =\n",
              "          google.colab.kernel.accessAllowed ? 'block' : 'none';\n",
              "\n",
              "        async function convertToInteractive(key) {\n",
              "          const element = document.querySelector('#df-3ecbd2ed-7f13-4e77-97e3-63dc3f1aed36');\n",
              "          const dataTable =\n",
              "            await google.colab.kernel.invokeFunction('convertToInteractive',\n",
              "                                                     [key], {});\n",
              "          if (!dataTable) return;\n",
              "\n",
              "          const docLinkHtml = 'Like what you see? Visit the ' +\n",
              "            '<a target=\"_blank\" href=https://colab.research.google.com/notebooks/data_table.ipynb>data table notebook</a>'\n",
              "            + ' to learn more about interactive tables.';\n",
              "          element.innerHTML = '';\n",
              "          dataTable['output_type'] = 'display_data';\n",
              "          await google.colab.output.renderOutput(dataTable, element);\n",
              "          const docLink = document.createElement('div');\n",
              "          docLink.innerHTML = docLinkHtml;\n",
              "          element.appendChild(docLink);\n",
              "        }\n",
              "      </script>\n",
              "    </div>\n",
              "  </div>\n",
              "  "
            ]
          },
          "metadata": {},
          "execution_count": 687
        }
      ]
    },
    {
      "cell_type": "markdown",
      "source": [
        "##P-Days"
      ],
      "metadata": {
        "id": "EiM_f3cKPPBg"
      }
    },
    {
      "cell_type": "code",
      "source": [
        "df.groupby(['y','pdays']).size()"
      ],
      "metadata": {
        "colab": {
          "base_uri": "https://localhost:8080/"
        },
        "id": "2Ek3OD8RPS1p",
        "outputId": "54f8ebad-ffdc-4769-c2f2-29a81672a719"
      },
      "execution_count": null,
      "outputs": [
        {
          "output_type": "execute_result",
          "data": {
            "text/plain": [
              "y    pdays\n",
              "no   -1       33570\n",
              "      1           9\n",
              "      2          35\n",
              "      3           1\n",
              "      4           1\n",
              "              ...  \n",
              "yes   804         1\n",
              "      805         1\n",
              "      828         1\n",
              "      842         1\n",
              "      854         1\n",
              "Length: 914, dtype: int64"
            ]
          },
          "metadata": {},
          "execution_count": 688
        }
      ]
    },
    {
      "cell_type": "code",
      "source": [
        "# drop pdays as it has -1 value for around 40%+ \n",
        "df.drop(['pdays'],axis=1, inplace=True)"
      ],
      "metadata": {
        "id": "pRNbAKRSPau7"
      },
      "execution_count": null,
      "outputs": []
    },
    {
      "cell_type": "markdown",
      "source": [
        "## Age"
      ],
      "metadata": {
        "id": "JFAP-A7sPogE"
      }
    },
    {
      "cell_type": "code",
      "source": [
        "df.groupby('age',sort=True)['age'].count()\n"
      ],
      "metadata": {
        "colab": {
          "base_uri": "https://localhost:8080/"
        },
        "id": "oZbHFk7-Paq-",
        "outputId": "a0f0fe18-5400-48f7-fac0-610561ead3e0"
      },
      "execution_count": null,
      "outputs": [
        {
          "output_type": "execute_result",
          "data": {
            "text/plain": [
              "age\n",
              "18      12\n",
              "19      35\n",
              "20      50\n",
              "21      79\n",
              "22     129\n",
              "23     202\n",
              "24     302\n",
              "25     527\n",
              "26     805\n",
              "27     909\n",
              "28    1038\n",
              "29    1185\n",
              "30    1757\n",
              "31    1996\n",
              "32    2085\n",
              "33    1972\n",
              "34    1930\n",
              "35    1894\n",
              "36    1806\n",
              "37    1696\n",
              "38    1466\n",
              "39    1487\n",
              "40    1355\n",
              "41    1291\n",
              "42    1242\n",
              "43    1161\n",
              "44    1136\n",
              "45    1216\n",
              "46    1175\n",
              "47    1088\n",
              "48     997\n",
              "49     994\n",
              "50     939\n",
              "51     936\n",
              "52     911\n",
              "53     891\n",
              "54     811\n",
              "55     806\n",
              "56     778\n",
              "57     828\n",
              "58     740\n",
              "59     770\n",
              "60     596\n",
              "61     147\n",
              "62      80\n",
              "63      77\n",
              "64      74\n",
              "65      59\n",
              "66      63\n",
              "67      54\n",
              "68      36\n",
              "69      44\n",
              "70      67\n",
              "71      54\n",
              "72      52\n",
              "73      44\n",
              "74      37\n",
              "75      39\n",
              "76      32\n",
              "77      44\n",
              "78      30\n",
              "79      25\n",
              "80      31\n",
              "81      17\n",
              "82      19\n",
              "83      22\n",
              "84       9\n",
              "85       5\n",
              "86       9\n",
              "87       4\n",
              "88       2\n",
              "89       3\n",
              "90       2\n",
              "92       2\n",
              "93       2\n",
              "94       1\n",
              "95       2\n",
              "Name: age, dtype: int64"
            ]
          },
          "metadata": {},
          "execution_count": 690
        }
      ]
    },
    {
      "cell_type": "code",
      "source": [
        "lst = [df]\n",
        "for column in lst:\n",
        "    column.loc[column[\"age\"] < 30,  \"age_cat\"] = \"20 to 30\"\n",
        "    column.loc[(column[\"age\"] >= 30) & (column[\"age\"] <= 39), \"age_cat\"] = \"30 to 40\"\n",
        "    column.loc[(column[\"age\"] >= 40) & (column[\"age\"] <= 49), \"age_cat\"] = \"40 to 50 \"\n",
        "    column.loc[(column[\"age\"] >= 50) & (column[\"age\"] <= 59), \"age_cat\"] = \"50 to 60\"\n",
        "    column.loc[column[\"age\"] >= 60, \"age_cat\"] = \"60\"\n",
        "df['age_cat'] = df['age_cat']\n",
        "#.astype(np.int64)"
      ],
      "metadata": {
        "id": "uJO0SvI9Njzm"
      },
      "execution_count": null,
      "outputs": []
    },
    {
      "cell_type": "code",
      "source": [
        "# Using DataFrame.insert() to add a column\n",
        "df.insert(0, 'Age_cat',value=df['age_cat'])"
      ],
      "metadata": {
        "id": "we5leP7s2Sph"
      },
      "execution_count": null,
      "outputs": []
    },
    {
      "cell_type": "code",
      "source": [
        "df=df.drop(['age','age_cat'], axis=1)"
      ],
      "metadata": {
        "id": "0mulF3X600xw"
      },
      "execution_count": null,
      "outputs": []
    },
    {
      "cell_type": "markdown",
      "source": [
        "## Balance"
      ],
      "metadata": {
        "id": "K4_ntfVCQPTu"
      }
    },
    {
      "cell_type": "code",
      "source": [
        "# remove outliers in feature balance...\n",
        "df.groupby(['y','balance'],sort=True)['balance'].count()\n"
      ],
      "metadata": {
        "colab": {
          "base_uri": "https://localhost:8080/"
        },
        "id": "8B5-LhB_Pamw",
        "outputId": "5af7ada3-cc70-4b4f-91a8-625f790bb417"
      },
      "execution_count": null,
      "outputs": [
        {
          "output_type": "execute_result",
          "data": {
            "text/plain": [
              "y    balance\n",
              "no   -8019      1\n",
              "     -6847      1\n",
              "     -4057      1\n",
              "     -3372      1\n",
              "     -3313      1\n",
              "               ..\n",
              "yes   34646     1\n",
              "      36252     1\n",
              "      45248     1\n",
              "      52587     2\n",
              "      81204     2\n",
              "Name: balance, Length: 9258, dtype: int64"
            ]
          },
          "metadata": {},
          "execution_count": 694
        }
      ]
    },
    {
      "cell_type": "markdown",
      "source": [
        "* As Balance is high , Client shows interest in deposite"
      ],
      "metadata": {
        "id": "rrp3UhNmcHB0"
      }
    },
    {
      "cell_type": "markdown",
      "source": [
        "## Duration"
      ],
      "metadata": {
        "id": "E59N4xtfQdSx"
      }
    },
    {
      "cell_type": "code",
      "source": [
        "# Convert duration to minutes of conversation.\n",
        "decimal_points = 2\n",
        "df['duration'] = df['duration'] / 60\n",
        "df['duration'] = df['duration'].apply(lambda x: round(x, decimal_points))"
      ],
      "metadata": {
        "id": "_YAqk94suWhs"
      },
      "execution_count": null,
      "outputs": []
    },
    {
      "cell_type": "code",
      "source": [
        "df.groupby(['y','duration'],sort=True)['duration'].count()\n"
      ],
      "metadata": {
        "colab": {
          "base_uri": "https://localhost:8080/"
        },
        "id": "g0JhKJrBPahi",
        "outputId": "bdde7ea5-6b5f-4be0-e1a9-55f3a1053d1a"
      },
      "execution_count": null,
      "outputs": [
        {
          "output_type": "execute_result",
          "data": {
            "text/plain": [
              "y    duration\n",
              "no   0.00         3\n",
              "     0.02         2\n",
              "     0.03         3\n",
              "     0.05         4\n",
              "     0.07        15\n",
              "                 ..\n",
              "yes  51.57        1\n",
              "     51.70        1\n",
              "     53.05        1\n",
              "     54.22        1\n",
              "     64.68        1\n",
              "Name: duration, Length: 2627, dtype: int64"
            ]
          },
          "metadata": {},
          "execution_count": 696
        }
      ]
    },
    {
      "cell_type": "code",
      "source": [
        "sns.boxplot(y=\"duration\", data=df)"
      ],
      "metadata": {
        "colab": {
          "base_uri": "https://localhost:8080/",
          "height": 269
        },
        "id": "kJpv2NVZEOtP",
        "outputId": "522a93a8-c418-4d5b-8ceb-07f0554fc31a"
      },
      "execution_count": null,
      "outputs": [
        {
          "output_type": "execute_result",
          "data": {
            "text/plain": [
              "<matplotlib.axes._subplots.AxesSubplot at 0x7f8018a6b710>"
            ]
          },
          "metadata": {},
          "execution_count": 697
        },
        {
          "output_type": "display_data",
          "data": {
            "text/plain": [
              "<Figure size 432x288 with 1 Axes>"
            ],
            "image/png": "[encoded data removed]"
          },
          "metadata": {
            "needs_background": "light"
          }
        }
      ]
    },
    {
      "cell_type": "code",
      "source": [
        "df.drop(df[df['duration']>3000].index,inplace=True,axis=0)"
      ],
      "metadata": {
        "id": "jiDfmpTDEf-x"
      },
      "execution_count": null,
      "outputs": []
    },
    {
      "cell_type": "code",
      "source": [
        "Q1 = df.duration.quantile(0.25)\n",
        "Q3 = df.duration.quantile(0.75)\n",
        "IQR = Q3 - Q1\n",
        "lower_limit = Q1 - 1.5*IQR\n",
        "upper_limit = Q3 + 1.5*IQR\n",
        "df = df[(df.duration>lower_limit)&(df.duration<upper_limit)]\n"
      ],
      "metadata": {
        "id": "xbUEgNq4EzGM"
      },
      "execution_count": null,
      "outputs": []
    },
    {
      "cell_type": "code",
      "source": [
        "sns.boxplot(y=\"duration\", data=df)"
      ],
      "metadata": {
        "colab": {
          "base_uri": "https://localhost:8080/",
          "height": 269
        },
        "id": "eSf8qPmGEjJo",
        "outputId": "3d5f4f87-bbe3-4050-e5ee-675b06315a45"
      },
      "execution_count": null,
      "outputs": [
        {
          "output_type": "execute_result",
          "data": {
            "text/plain": [
              "<matplotlib.axes._subplots.AxesSubplot at 0x7f8018914f90>"
            ]
          },
          "metadata": {},
          "execution_count": 700
        },
        {
          "output_type": "display_data",
          "data": {
            "text/plain": [
              "<Figure size 432x288 with 1 Axes>"
            ],
            "image/png": "[encoded data removed]"
          },
          "metadata": {
            "needs_background": "light"
          }
        }
      ]
    },
    {
      "cell_type": "markdown",
      "source": [
        "* As duration goes high, client show interest on deposit"
      ],
      "metadata": {
        "id": "7BEOOAtgcPBj"
      }
    },
    {
      "cell_type": "markdown",
      "source": [
        "## Campaign"
      ],
      "metadata": {
        "id": "alES3wjEQrnJ"
      }
    },
    {
      "cell_type": "code",
      "source": [
        "pd.set_option('display.max_rows', 500)"
      ],
      "metadata": {
        "id": "lKw8lT1YRO7c"
      },
      "execution_count": null,
      "outputs": []
    },
    {
      "cell_type": "code",
      "source": [
        "df.groupby(['y','campaign'],sort=True)['campaign'].count()"
      ],
      "metadata": {
        "id": "mdHSynKtPadb",
        "colab": {
          "base_uri": "https://localhost:8080/"
        },
        "outputId": "0e59d2f5-8bfb-4f88-c151-0527ffa4eca5"
      },
      "execution_count": null,
      "outputs": [
        {
          "output_type": "execute_result",
          "data": {
            "text/plain": [
              "y    campaign\n",
              "no   1           14427\n",
              "     2           10612\n",
              "     3            4670\n",
              "     4            3081\n",
              "     5            1565\n",
              "     6            1160\n",
              "     7             664\n",
              "     8             489\n",
              "     9             295\n",
              "     10            246\n",
              "     11            181\n",
              "     12            144\n",
              "     13            121\n",
              "     14             87\n",
              "     15             78\n",
              "     16             76\n",
              "     17             61\n",
              "     18             51\n",
              "     19             43\n",
              "     20             41\n",
              "     21             33\n",
              "     22             23\n",
              "     23             22\n",
              "     24             18\n",
              "     25             21\n",
              "     26             13\n",
              "     27             10\n",
              "     28             16\n",
              "     29             15\n",
              "     30              8\n",
              "     31             12\n",
              "     32              8\n",
              "     33              6\n",
              "     34              5\n",
              "     35              4\n",
              "     36              4\n",
              "     37              2\n",
              "     38              3\n",
              "     39              1\n",
              "     41              2\n",
              "     43              3\n",
              "     44              1\n",
              "     46              1\n",
              "     50              2\n",
              "     51              1\n",
              "     58              1\n",
              "     63              1\n",
              "yes  1            1940\n",
              "     2             932\n",
              "     3             391\n",
              "     4             166\n",
              "     5              79\n",
              "     6              52\n",
              "     7              24\n",
              "     8              19\n",
              "     9              10\n",
              "     10              4\n",
              "     11              6\n",
              "     12              1\n",
              "     13              3\n",
              "     15              3\n",
              "     16              1\n",
              "     17              3\n",
              "     20              1\n",
              "     21              1\n",
              "Name: campaign, dtype: int64"
            ]
          },
          "metadata": {},
          "execution_count": 702
        }
      ]
    },
    {
      "cell_type": "code",
      "source": [
        "df=df[df['campaign'] < 33]"
      ],
      "metadata": {
        "id": "e8yO04rgRpjX"
      },
      "execution_count": null,
      "outputs": []
    },
    {
      "cell_type": "code",
      "source": [
        "df.groupby(['y','campaign'],sort=True)['campaign'].count()"
      ],
      "metadata": {
        "id": "nV01u9S3TB3Z",
        "colab": {
          "base_uri": "https://localhost:8080/"
        },
        "outputId": "4591d3a1-34be-4361-bb84-23e1977bf819"
      },
      "execution_count": null,
      "outputs": [
        {
          "output_type": "execute_result",
          "data": {
            "text/plain": [
              "y    campaign\n",
              "no   1           14427\n",
              "     2           10612\n",
              "     3            4670\n",
              "     4            3081\n",
              "     5            1565\n",
              "     6            1160\n",
              "     7             664\n",
              "     8             489\n",
              "     9             295\n",
              "     10            246\n",
              "     11            181\n",
              "     12            144\n",
              "     13            121\n",
              "     14             87\n",
              "     15             78\n",
              "     16             76\n",
              "     17             61\n",
              "     18             51\n",
              "     19             43\n",
              "     20             41\n",
              "     21             33\n",
              "     22             23\n",
              "     23             22\n",
              "     24             18\n",
              "     25             21\n",
              "     26             13\n",
              "     27             10\n",
              "     28             16\n",
              "     29             15\n",
              "     30              8\n",
              "     31             12\n",
              "     32              8\n",
              "yes  1            1940\n",
              "     2             932\n",
              "     3             391\n",
              "     4             166\n",
              "     5              79\n",
              "     6              52\n",
              "     7              24\n",
              "     8              19\n",
              "     9              10\n",
              "     10              4\n",
              "     11              6\n",
              "     12              1\n",
              "     13              3\n",
              "     15              3\n",
              "     16              1\n",
              "     17              3\n",
              "     20              1\n",
              "     21              1\n",
              "Name: campaign, dtype: int64"
            ]
          },
          "metadata": {},
          "execution_count": 704
        }
      ]
    },
    {
      "cell_type": "markdown",
      "source": [
        "## Previous"
      ],
      "metadata": {
        "id": "RKS1H5VsRdv-"
      }
    },
    {
      "cell_type": "code",
      "source": [
        "df.groupby(['y','previous'],sort=True)['previous'].count()"
      ],
      "metadata": {
        "id": "CbnTQtfCRdQJ",
        "colab": {
          "base_uri": "https://localhost:8080/"
        },
        "outputId": "37b3516f-1810-4e5f-8084-88125a174feb"
      },
      "execution_count": null,
      "outputs": [
        {
          "output_type": "execute_result",
          "data": {
            "text/plain": [
              "y    previous\n",
              "no   0           32156\n",
              "     1            2112\n",
              "     2            1605\n",
              "     3             811\n",
              "     4             521\n",
              "     5             327\n",
              "     6             188\n",
              "     7             146\n",
              "     8              86\n",
              "     9              65\n",
              "     10             38\n",
              "     11             49\n",
              "     12             33\n",
              "     13             29\n",
              "     14             14\n",
              "     15             18\n",
              "     16             13\n",
              "     17             12\n",
              "     18              5\n",
              "     19              9\n",
              "     20              7\n",
              "     21              3\n",
              "     22              5\n",
              "     23              7\n",
              "     24              5\n",
              "     25              4\n",
              "     26              1\n",
              "     27              5\n",
              "     28              2\n",
              "     29              3\n",
              "     30              2\n",
              "     32              1\n",
              "     35              1\n",
              "     37              2\n",
              "     38              2\n",
              "     40              1\n",
              "     41              1\n",
              "     51              1\n",
              "     275             1\n",
              "yes  0            2044\n",
              "     1             483\n",
              "     2             383\n",
              "     3             245\n",
              "     4             140\n",
              "     5             105\n",
              "     6              70\n",
              "     7              43\n",
              "     8              35\n",
              "     9              22\n",
              "     10             22\n",
              "     11             10\n",
              "     12              8\n",
              "     13              9\n",
              "     14              5\n",
              "     15              1\n",
              "     17              3\n",
              "     19              2\n",
              "     20              1\n",
              "     22              1\n",
              "     23              1\n",
              "     26              1\n",
              "     55              1\n",
              "     58              1\n",
              "Name: previous, dtype: int64"
            ]
          },
          "metadata": {},
          "execution_count": 705
        }
      ]
    },
    {
      "cell_type": "code",
      "source": [
        "df.previous.mean()"
      ],
      "metadata": {
        "colab": {
          "base_uri": "https://localhost:8080/"
        },
        "id": "3VIZcohhTM__",
        "outputId": "5d17954a-a47b-4269-ab23-dcbbf6223b9f"
      },
      "execution_count": null,
      "outputs": [
        {
          "output_type": "execute_result",
          "data": {
            "text/plain": [
              "0.5867102344551244"
            ]
          },
          "metadata": {},
          "execution_count": 706
        }
      ]
    },
    {
      "cell_type": "code",
      "source": [
        "df=df[df['previous'] < 58]"
      ],
      "metadata": {
        "id": "gvhWmtdtTIJM"
      },
      "execution_count": null,
      "outputs": []
    },
    {
      "cell_type": "code",
      "source": [
        "df.groupby(['y','previous'],sort=True)['previous'].count()"
      ],
      "metadata": {
        "id": "258fGpprTZPa",
        "colab": {
          "base_uri": "https://localhost:8080/"
        },
        "outputId": "47a1ac08-39be-4214-a40c-b21a88dbefdd"
      },
      "execution_count": null,
      "outputs": [
        {
          "output_type": "execute_result",
          "data": {
            "text/plain": [
              "y    previous\n",
              "no   0           32156\n",
              "     1            2112\n",
              "     2            1605\n",
              "     3             811\n",
              "     4             521\n",
              "     5             327\n",
              "     6             188\n",
              "     7             146\n",
              "     8              86\n",
              "     9              65\n",
              "     10             38\n",
              "     11             49\n",
              "     12             33\n",
              "     13             29\n",
              "     14             14\n",
              "     15             18\n",
              "     16             13\n",
              "     17             12\n",
              "     18              5\n",
              "     19              9\n",
              "     20              7\n",
              "     21              3\n",
              "     22              5\n",
              "     23              7\n",
              "     24              5\n",
              "     25              4\n",
              "     26              1\n",
              "     27              5\n",
              "     28              2\n",
              "     29              3\n",
              "     30              2\n",
              "     32              1\n",
              "     35              1\n",
              "     37              2\n",
              "     38              2\n",
              "     40              1\n",
              "     41              1\n",
              "     51              1\n",
              "yes  0            2044\n",
              "     1             483\n",
              "     2             383\n",
              "     3             245\n",
              "     4             140\n",
              "     5             105\n",
              "     6              70\n",
              "     7              43\n",
              "     8              35\n",
              "     9              22\n",
              "     10             22\n",
              "     11             10\n",
              "     12              8\n",
              "     13              9\n",
              "     14              5\n",
              "     15              1\n",
              "     17              3\n",
              "     19              2\n",
              "     20              1\n",
              "     22              1\n",
              "     23              1\n",
              "     26              1\n",
              "     55              1\n",
              "Name: previous, dtype: int64"
            ]
          },
          "metadata": {},
          "execution_count": 708
        }
      ]
    },
    {
      "cell_type": "markdown",
      "source": [
        "# Data-information after Cleaning"
      ],
      "metadata": {
        "id": "FrXfR4zqF_ZB"
      }
    },
    {
      "cell_type": "code",
      "source": [
        "for col in df:\n",
        "    print(f'{col}: {df[col].unique()}')"
      ],
      "metadata": {
        "colab": {
          "base_uri": "https://localhost:8080/"
        },
        "id": "SZPIpqW076Hb",
        "outputId": "3d28dd8b-2ee8-43ee-873b-852679300205"
      },
      "execution_count": null,
      "outputs": [
        {
          "output_type": "stream",
          "name": "stdout",
          "text": [
            "Age_cat: ['50 to 60' '40 to 50 ' '30 to 40' '20 to 30' '60']\n",
            "job: ['management' 'technician' 'entrepreneur' 'blue-collar' 'unknown'\n",
            " 'retired' 'admin.' 'services' 'self-employed' 'unemployed' 'housemaid'\n",
            " 'student']\n",
            "marital: ['married' 'single' 'divorced']\n",
            "education: ['tertiary' 'secondary' 'unknown' 'primary']\n",
            "balance: [ 2143    29     2 ...  8205 14204 16353]\n",
            "housing: ['yes' 'no']\n",
            "loan: ['no' 'yes']\n",
            "contact: ['unknown' 'cellular' 'telephone']\n",
            "month: ['may' 'jun' 'jul' 'aug' 'oct' 'nov' 'dec' 'jan' 'feb' 'mar' 'apr' 'sep']\n",
            "duration: [ 4.35  2.52  1.27  1.53  3.3   2.32  3.62  6.33  0.83  0.92  3.7   2.28\n",
            "  8.62  1.18  2.9   5.88  1.63  0.63  3.65  0.9   4.37  2.73  2.67  5.7\n",
            "  3.02  2.87  4.93  2.12  4.25  5.8   3.75  3.83  3.47  3.77  5.6   4.03\n",
            "  6.08  9.62  3.    0.37 10.27  5.92  6.05  4.43  4.22  2.98  2.42  1.73\n",
            "  0.22  3.08  2.3   6.52  5.95  1.52  8.8   4.55  2.63  2.95  4.3   2.57\n",
            "  4.85  2.93  3.52  5.82  4.53  3.22  3.53  0.33  4.1   8.82  3.13  0.8\n",
            "  3.55  9.72  3.68  2.88  7.1   4.78  1.68  3.38  3.28  4.28  2.07  3.82\n",
            "  6.67  3.17  0.35  8.57  3.23  2.4   4.77  1.78  4.12  8.63  6.07  2.97\n",
            "  7.32  1.32  2.    2.92  1.02  1.3   2.38  9.65  5.75  1.67  2.08  2.27\n",
            "  1.22  9.02  2.72  5.02  0.77  3.4   2.62  4.05  3.1  10.17  1.42  1.9\n",
            "  0.95  3.97  1.55  2.13  5.05  9.3   4.5   3.8   1.65  4.    3.88  4.17\n",
            "  4.2   2.17  6.87  0.32  7.63  5.22  6.93  2.43  2.78  5.25  2.33  5.77\n",
            "  9.37  2.37  1.12  5.15  4.13  4.27  1.37  7.95 10.18  7.85  6.35  0.7\n",
            "  4.18  6.8   3.58  3.6   6.1   3.5   4.8   2.8   5.63  6.83  5.    0.45\n",
            "  0.3   2.02  0.67  3.43  6.48  1.95  3.87  0.65  4.7   3.78  1.98  6.02\n",
            "  5.83  5.53  1.88  2.2   0.97  1.48  2.53  1.83  7.72  0.17  1.97  3.15\n",
            "  3.9   1.25 10.35  5.17  2.6   0.08  0.03  6.03  3.33  2.1   1.08  4.45\n",
            "  3.48  3.42  1.38  1.77  1.75  1.8   5.18  3.57  5.97  7.55  6.43  4.02\n",
            "  3.73  2.47  3.27  1.85  3.85  5.27  7.08  2.25  6.7   3.05  5.42  8.38\n",
            "  1.58  7.02  3.25  5.78  6.73  6.6   1.47  6.32  1.7   5.1   3.63  5.73\n",
            "  3.07  3.92  4.83  2.22  5.3   4.33  7.28  8.35  2.48  3.32  7.07  0.72\n",
            "  5.43  6.55  8.05  4.32  9.6   1.5   8.42  4.08 10.38  8.27  4.6   1.45\n",
            "  2.5   1.87  4.63  5.9   3.12  7.52  2.65  6.82  2.83 10.13  0.88  2.23\n",
            "  3.03  2.7   1.62  4.72  5.38  0.78  0.5   7.87  7.47  4.4   2.82  5.62\n",
            "  6.23  8.85  2.55  1.33  4.48  6.18  7.12 10.07  4.38  2.15  3.18  0.43\n",
            "  4.82  2.05  2.68  4.47  6.38  7.33  0.38  1.15  8.73  1.6   2.58  5.87\n",
            "  6.5   6.15  5.68  8.77  0.6   2.45  6.78  5.65  4.75  5.07  6.53  3.35\n",
            "  5.47  1.93  4.88  0.62  8.83  0.48  5.2   4.73  8.45  5.55  5.37  3.37\n",
            "  5.13  7.78  5.33  1.07  6.3   1.    1.82  0.52  9.88 10.52  0.53  4.23\n",
            "  5.23  9.95  3.45  5.08  2.03  1.1   5.72  0.98  4.15  6.77  3.67  0.85\n",
            "  4.58  7.98  0.58  1.17  2.35  6.58 10.48  8.37  7.43  2.18  4.87  1.13\n",
            "  4.9   1.23  8.67  2.85  8.08  5.98 10.25  5.45  3.93  8.2   4.97  4.92\n",
            "  9.85  3.2   6.47  6.68  7.25  3.72  7.05 10.57  7.4   9.43  4.57  0.82\n",
            "  6.27  0.93  4.65  7.2   8.6  10.23  2.77  1.2   7.9   9.32  5.48  1.72\n",
            " 10.12  6.63  8.02  6.97  1.57  7.35  2.75  4.95  1.03  9.4   4.98  4.07\n",
            "  9.13  1.4   8.15  0.68  1.35  4.68  5.32  0.28  4.67  1.28  3.98 10.37\n",
            "  0.18  6.75  7.7   0.2   8.23  0.55  7.92  1.05  7.65  3.95  8.33  8.55\n",
            "  7.8   6.4   7.37  0.23  8.18  0.73  7.03  8.9   7.68  0.47 10.45  6.72\n",
            " 10.43  9.05  0.57  0.75 10.28  0.25  5.58  0.12  0.1   0.13  5.5   4.62\n",
            "  6.65  8.58  7.77  9.97  4.52  9.73  0.4   5.12  6.25  8.97  8.    1.43\n",
            "  8.07  0.42  5.52  8.17  9.08  1.92  6.28  9.07  5.4   9.28  9.18  7.58\n",
            "  8.13  7.67  5.28  9.87  8.72  8.1   8.98  8.22  0.05  7.62  7.83 10.32\n",
            "  6.88  9.57  9.93  8.25  6.17  7.6   5.57  8.4   7.48  6.37  7.13  6.\n",
            "  9.47 10.3   6.92  5.85  6.22  5.67 10.15  5.03  8.68  7.88  7.    0.87\n",
            "  7.53  7.38  7.18  9.42  4.42  7.23  8.92  6.12  6.85  7.3   6.45  7.93\n",
            "  7.15  9.1   5.93 10.47  9.23  7.27  5.35  9.9  10.6   8.03  9.45  6.9\n",
            "  6.62  9.98  6.95  9.78  9.5   8.75  7.75  9.35  9.82  6.98  8.12  7.17\n",
            "  8.53 10.02  8.95  7.22  0.27  8.48  0.07  8.7   7.82  6.42  8.3   9.83\n",
            "  9.52  9.2   7.42  6.57  8.87 10.    9.53  7.45 10.63  7.73  9.12 10.42\n",
            "  9.17 10.68  9.63  9.03  8.43  9.38  7.5   9.8   9.55  9.58  8.88  9.27\n",
            "  9.22  9.48  6.2   6.13  8.52  9.68  8.93 10.7  10.05  7.57 10.55  9.33\n",
            "  0.    9.67  9.7   8.28 10.2   7.97  9.75 10.33 10.62  9.25  8.5  10.22\n",
            "  8.78 10.08 10.1  10.4   8.47 10.65  9.    9.77  9.92 10.03 10.5  10.53\n",
            " 10.58  9.15  0.15  8.65 10.67  8.32  0.02]\n",
            "campaign: [ 1  2  3  5  4  6  7  8  9 10 11 12 13 19 14 24 16 18 22 32 15 25 21 17\n",
            " 26 28 23 20 29 31 30 27]\n",
            "previous: [ 0  3  1  4  2 11 16  6  5 10 12 18  9 21  8  7 14 15 26 37 13 25 20 27\n",
            " 17 23 38 29 24 51 22 19 30 28 32 40 55 35 41]\n",
            "poutcome: ['unknown' 'failure' 'other' 'success']\n",
            "y: ['no' 'yes']\n"
          ]
        }
      ]
    },
    {
      "cell_type": "code",
      "source": [
        "df.shape"
      ],
      "metadata": {
        "colab": {
          "base_uri": "https://localhost:8080/"
        },
        "id": "r4EGUJtN4LWR",
        "outputId": "34ffe83c-9697-409d-919b-574bb1223731"
      },
      "execution_count": null,
      "outputs": [
        {
          "output_type": "execute_result",
          "data": {
            "text/plain": [
              "(41925, 14)"
            ]
          },
          "metadata": {},
          "execution_count": 710
        }
      ]
    },
    {
      "cell_type": "code",
      "source": [
        "df[df.duplicated()].shape\n"
      ],
      "metadata": {
        "id": "_zKZna_eDKPE",
        "colab": {
          "base_uri": "https://localhost:8080/"
        },
        "outputId": "74808918-e71e-4c61-e5a1-4cfe563a7821"
      },
      "execution_count": null,
      "outputs": [
        {
          "output_type": "execute_result",
          "data": {
            "text/plain": [
              "(4, 14)"
            ]
          },
          "metadata": {},
          "execution_count": 711
        }
      ]
    },
    {
      "cell_type": "code",
      "source": [
        "#df = df.drop_duplicates()\n"
      ],
      "metadata": {
        "id": "8GlFgS714KGb"
      },
      "execution_count": null,
      "outputs": []
    },
    {
      "cell_type": "code",
      "source": [
        "df.shape"
      ],
      "metadata": {
        "colab": {
          "base_uri": "https://localhost:8080/"
        },
        "id": "FAn05JWi4PKS",
        "outputId": "fcb297a3-5e6b-43cd-90d7-5adaef17ba10"
      },
      "execution_count": null,
      "outputs": [
        {
          "output_type": "execute_result",
          "data": {
            "text/plain": [
              "(41925, 14)"
            ]
          },
          "metadata": {},
          "execution_count": 713
        }
      ]
    },
    {
      "cell_type": "code",
      "execution_count": null,
      "metadata": {
        "colab": {
          "base_uri": "https://localhost:8080/"
        },
        "id": "LVQXGAICH18S",
        "outputId": "035a5330-7a2e-48b5-eaf4-9f87b2256e2d"
      },
      "outputs": [
        {
          "output_type": "execute_result",
          "data": {
            "text/plain": [
              "Age_cat      0\n",
              "job          0\n",
              "marital      0\n",
              "education    0\n",
              "balance      0\n",
              "housing      0\n",
              "loan         0\n",
              "contact      0\n",
              "month        0\n",
              "duration     0\n",
              "campaign     0\n",
              "previous     0\n",
              "poutcome     0\n",
              "y            0\n",
              "dtype: int64"
            ]
          },
          "metadata": {},
          "execution_count": 714
        }
      ],
      "source": [
        "df.isnull().sum()"
      ]
    },
    {
      "cell_type": "markdown",
      "metadata": {
        "id": "m6h7iaM0HyT9"
      },
      "source": [
        "# Logistic Regression"
      ]
    },
    {
      "cell_type": "markdown",
      "source": [
        "> There is a variable named Y is our target variables and others are our independent variables \n",
        "\n",
        "> Here, the target variable is binary variable means it has only two outputs.\n",
        "so we,will use Logistic regression for predicting Y Variable "
      ],
      "metadata": {
        "id": "FCrAr2_ZXVvp"
      }
    },
    {
      "cell_type": "code",
      "execution_count": null,
      "metadata": {
        "id": "rjtZZnDEIo1c"
      },
      "outputs": [],
      "source": [
        "#create dict for binary encoding\n",
        "dic = {\"yes\":1,\"no\":0}\n",
        "\n",
        "label_encoder = preprocessing.LabelEncoder()\n",
        "from sklearn.preprocessing import LabelEncoder\n",
        "dic = {\"yes\":1,\"no\":0}\n",
        "lst = ['y',\"loan\",\"housing\"]\n",
        "for i in lst:\n",
        "    df[i] = df[i].map(dic)"
      ]
    },
    {
      "cell_type": "code",
      "source": [
        "# Ordinal Encoding\n",
        "l=[\"contact\",\"poutcome\"]\n",
        "for i in l:\n",
        "    le=LabelEncoder()\n",
        "    df[i]=le.fit_transform(df[i].values)"
      ],
      "metadata": {
        "id": "VwBV0WeaH-J8"
      },
      "execution_count": null,
      "outputs": []
    },
    {
      "cell_type": "code",
      "source": [
        "df.head(2)"
      ],
      "metadata": {
        "colab": {
          "base_uri": "https://localhost:8080/",
          "height": 112
        },
        "id": "A7wfSrWTI9_C",
        "outputId": "97f949f3-5205-4b3b-a070-cb3ff7655fe7"
      },
      "execution_count": null,
      "outputs": [
        {
          "output_type": "execute_result",
          "data": {
            "text/plain": [
              "     Age_cat         job  marital  education  balance  housing  loan  contact  \\\n",
              "0   50 to 60  management  married   tertiary     2143        1     0        2   \n",
              "1  40 to 50   technician   single  secondary       29        1     0        2   \n",
              "\n",
              "  month  duration  campaign  previous  poutcome  y  \n",
              "0   may      4.35         1         0         3  0  \n",
              "1   may      2.52         1         0         3  0  "
            ],
            "text/html": [
              "\n",
              "  <div id=\"df-2b8ae38a-32c0-47f2-acb2-ac5584a1a4fe\">\n",
              "    <div class=\"colab-df-container\">\n",
              "      <div>\n",
              "<style scoped>\n",
              "    .dataframe tbody tr th:only-of-type {\n",
              "        vertical-align: middle;\n",
              "    }\n",
              "\n",
              "    .dataframe tbody tr th {\n",
              "        vertical-align: top;\n",
              "    }\n",
              "\n",
              "    .dataframe thead th {\n",
              "        text-align: right;\n",
              "    }\n",
              "</style>\n",
              "<table border=\"1\" class=\"dataframe\">\n",
              "  <thead>\n",
              "    <tr style=\"text-align: right;\">\n",
              "      <th></th>\n",
              "      <th>Age_cat</th>\n",
              "      <th>job</th>\n",
              "      <th>marital</th>\n",
              "      <th>education</th>\n",
              "      <th>balance</th>\n",
              "      <th>housing</th>\n",
              "      <th>loan</th>\n",
              "      <th>contact</th>\n",
              "      <th>month</th>\n",
              "      <th>duration</th>\n",
              "      <th>campaign</th>\n",
              "      <th>previous</th>\n",
              "      <th>poutcome</th>\n",
              "      <th>y</th>\n",
              "    </tr>\n",
              "  </thead>\n",
              "  <tbody>\n",
              "    <tr>\n",
              "      <th>0</th>\n",
              "      <td>50 to 60</td>\n",
              "      <td>management</td>\n",
              "      <td>married</td>\n",
              "      <td>tertiary</td>\n",
              "      <td>2143</td>\n",
              "      <td>1</td>\n",
              "      <td>0</td>\n",
              "      <td>2</td>\n",
              "      <td>may</td>\n",
              "      <td>4.35</td>\n",
              "      <td>1</td>\n",
              "      <td>0</td>\n",
              "      <td>3</td>\n",
              "      <td>0</td>\n",
              "    </tr>\n",
              "    <tr>\n",
              "      <th>1</th>\n",
              "      <td>40 to 50</td>\n",
              "      <td>technician</td>\n",
              "      <td>single</td>\n",
              "      <td>secondary</td>\n",
              "      <td>29</td>\n",
              "      <td>1</td>\n",
              "      <td>0</td>\n",
              "      <td>2</td>\n",
              "      <td>may</td>\n",
              "      <td>2.52</td>\n",
              "      <td>1</td>\n",
              "      <td>0</td>\n",
              "      <td>3</td>\n",
              "      <td>0</td>\n",
              "    </tr>\n",
              "  </tbody>\n",
              "</table>\n",
              "</div>\n",
              "      <button class=\"colab-df-convert\" onclick=\"convertToInteractive('df-2b8ae38a-32c0-47f2-acb2-ac5584a1a4fe')\"\n",
              "              title=\"Convert this dataframe to an interactive table.\"\n",
              "              style=\"display:none;\">\n",
              "        \n",
              "  <svg xmlns=\"http://www.w3.org/2000/svg\" height=\"24px\"viewBox=\"0 0 24 24\"\n",
              "       width=\"24px\">\n",
              "    <path d=\"M0 0h24v24H0V0z\" fill=\"none\"/>\n",
              "    <path d=\"M18.56 5.44l.94 2.06.94-2.06 2.06-.94-2.06-.94-.94-2.06-.94 2.06-2.06.94zm-11 1L8.5 8.5l.94-2.06 2.06-.94-2.06-.94L8.5 2.5l-.94 2.06-2.06.94zm10 10l.94 2.06.94-2.06 2.06-.94-2.06-.94-.94-2.06-.94 2.06-2.06.94z\"/><path d=\"M17.41 7.96l-1.37-1.37c-.4-.4-.92-.59-1.43-.59-.52 0-1.04.2-1.43.59L10.3 9.45l-7.72 7.72c-.78.78-.78 2.05 0 2.83L4 21.41c.39.39.9.59 1.41.59.51 0 1.02-.2 1.41-.59l7.78-7.78 2.81-2.81c.8-.78.8-2.07 0-2.86zM5.41 20L4 18.59l7.72-7.72 1.47 1.35L5.41 20z\"/>\n",
              "  </svg>\n",
              "      </button>\n",
              "      \n",
              "  <style>\n",
              "    .colab-df-container {\n",
              "      display:flex;\n",
              "      flex-wrap:wrap;\n",
              "      gap: 12px;\n",
              "    }\n",
              "\n",
              "    .colab-df-convert {\n",
              "      background-color: #E8F0FE;\n",
              "      border: none;\n",
              "      border-radius: 50%;\n",
              "      cursor: pointer;\n",
              "      display: none;\n",
              "      fill: #1967D2;\n",
              "      height: 32px;\n",
              "      padding: 0 0 0 0;\n",
              "      width: 32px;\n",
              "    }\n",
              "\n",
              "    .colab-df-convert:hover {\n",
              "      background-color: #E2EBFA;\n",
              "      box-shadow: 0px 1px 2px rgba(60, 64, 67, 0.3), 0px 1px 3px 1px rgba(60, 64, 67, 0.15);\n",
              "      fill: #174EA6;\n",
              "    }\n",
              "\n",
              "    [theme=dark] .colab-df-convert {\n",
              "      background-color: #3B4455;\n",
              "      fill: #D2E3FC;\n",
              "    }\n",
              "\n",
              "    [theme=dark] .colab-df-convert:hover {\n",
              "      background-color: #434B5C;\n",
              "      box-shadow: 0px 1px 3px 1px rgba(0, 0, 0, 0.15);\n",
              "      filter: drop-shadow(0px 1px 2px rgba(0, 0, 0, 0.3));\n",
              "      fill: #FFFFFF;\n",
              "    }\n",
              "  </style>\n",
              "\n",
              "      <script>\n",
              "        const buttonEl =\n",
              "          document.querySelector('#df-2b8ae38a-32c0-47f2-acb2-ac5584a1a4fe button.colab-df-convert');\n",
              "        buttonEl.style.display =\n",
              "          google.colab.kernel.accessAllowed ? 'block' : 'none';\n",
              "\n",
              "        async function convertToInteractive(key) {\n",
              "          const element = document.querySelector('#df-2b8ae38a-32c0-47f2-acb2-ac5584a1a4fe');\n",
              "          const dataTable =\n",
              "            await google.colab.kernel.invokeFunction('convertToInteractive',\n",
              "                                                     [key], {});\n",
              "          if (!dataTable) return;\n",
              "\n",
              "          const docLinkHtml = 'Like what you see? Visit the ' +\n",
              "            '<a target=\"_blank\" href=https://colab.research.google.com/notebooks/data_table.ipynb>data table notebook</a>'\n",
              "            + ' to learn more about interactive tables.';\n",
              "          element.innerHTML = '';\n",
              "          dataTable['output_type'] = 'display_data';\n",
              "          await google.colab.output.renderOutput(dataTable, element);\n",
              "          const docLink = document.createElement('div');\n",
              "          docLink.innerHTML = docLinkHtml;\n",
              "          element.appendChild(docLink);\n",
              "        }\n",
              "      </script>\n",
              "    </div>\n",
              "  </div>\n",
              "  "
            ]
          },
          "metadata": {},
          "execution_count": 717
        }
      ]
    },
    {
      "cell_type": "code",
      "execution_count": null,
      "metadata": {
        "id": "X_SHgA2UgSeg"
      },
      "outputs": [],
      "source": [
        "# Dividing our data into input and output variables \n",
        "X = df.iloc[:,:-1]\n",
        "Y = df.iloc[:,-1]"
      ]
    },
    {
      "cell_type": "code",
      "execution_count": null,
      "metadata": {
        "id": "tYTyt_I0JDW2"
      },
      "outputs": [],
      "source": [
        "X = pd.get_dummies(data = X)"
      ]
    },
    {
      "cell_type": "code",
      "source": [
        "df.head(1)"
      ],
      "metadata": {
        "colab": {
          "base_uri": "https://localhost:8080/",
          "height": 81
        },
        "id": "RZDLwYRn4QIe",
        "outputId": "33d843a4-a955-4fd0-f252-51c1f62bf1c1"
      },
      "execution_count": null,
      "outputs": [
        {
          "output_type": "execute_result",
          "data": {
            "text/plain": [
              "    Age_cat         job  marital education  balance  housing  loan  contact  \\\n",
              "0  50 to 60  management  married  tertiary     2143        1     0        2   \n",
              "\n",
              "  month  duration  campaign  previous  poutcome  y  \n",
              "0   may      4.35         1         0         3  0  "
            ],
            "text/html": [
              "\n",
              "  <div id=\"df-bf1e748e-4b4c-4d7e-b4ae-9f56b3274532\">\n",
              "    <div class=\"colab-df-container\">\n",
              "      <div>\n",
              "<style scoped>\n",
              "    .dataframe tbody tr th:only-of-type {\n",
              "        vertical-align: middle;\n",
              "    }\n",
              "\n",
              "    .dataframe tbody tr th {\n",
              "        vertical-align: top;\n",
              "    }\n",
              "\n",
              "    .dataframe thead th {\n",
              "        text-align: right;\n",
              "    }\n",
              "</style>\n",
              "<table border=\"1\" class=\"dataframe\">\n",
              "  <thead>\n",
              "    <tr style=\"text-align: right;\">\n",
              "      <th></th>\n",
              "      <th>Age_cat</th>\n",
              "      <th>job</th>\n",
              "      <th>marital</th>\n",
              "      <th>education</th>\n",
              "      <th>balance</th>\n",
              "      <th>housing</th>\n",
              "      <th>loan</th>\n",
              "      <th>contact</th>\n",
              "      <th>month</th>\n",
              "      <th>duration</th>\n",
              "      <th>campaign</th>\n",
              "      <th>previous</th>\n",
              "      <th>poutcome</th>\n",
              "      <th>y</th>\n",
              "    </tr>\n",
              "  </thead>\n",
              "  <tbody>\n",
              "    <tr>\n",
              "      <th>0</th>\n",
              "      <td>50 to 60</td>\n",
              "      <td>management</td>\n",
              "      <td>married</td>\n",
              "      <td>tertiary</td>\n",
              "      <td>2143</td>\n",
              "      <td>1</td>\n",
              "      <td>0</td>\n",
              "      <td>2</td>\n",
              "      <td>may</td>\n",
              "      <td>4.35</td>\n",
              "      <td>1</td>\n",
              "      <td>0</td>\n",
              "      <td>3</td>\n",
              "      <td>0</td>\n",
              "    </tr>\n",
              "  </tbody>\n",
              "</table>\n",
              "</div>\n",
              "      <button class=\"colab-df-convert\" onclick=\"convertToInteractive('df-bf1e748e-4b4c-4d7e-b4ae-9f56b3274532')\"\n",
              "              title=\"Convert this dataframe to an interactive table.\"\n",
              "              style=\"display:none;\">\n",
              "        \n",
              "  <svg xmlns=\"http://www.w3.org/2000/svg\" height=\"24px\"viewBox=\"0 0 24 24\"\n",
              "       width=\"24px\">\n",
              "    <path d=\"M0 0h24v24H0V0z\" fill=\"none\"/>\n",
              "    <path d=\"M18.56 5.44l.94 2.06.94-2.06 2.06-.94-2.06-.94-.94-2.06-.94 2.06-2.06.94zm-11 1L8.5 8.5l.94-2.06 2.06-.94-2.06-.94L8.5 2.5l-.94 2.06-2.06.94zm10 10l.94 2.06.94-2.06 2.06-.94-2.06-.94-.94-2.06-.94 2.06-2.06.94z\"/><path d=\"M17.41 7.96l-1.37-1.37c-.4-.4-.92-.59-1.43-.59-.52 0-1.04.2-1.43.59L10.3 9.45l-7.72 7.72c-.78.78-.78 2.05 0 2.83L4 21.41c.39.39.9.59 1.41.59.51 0 1.02-.2 1.41-.59l7.78-7.78 2.81-2.81c.8-.78.8-2.07 0-2.86zM5.41 20L4 18.59l7.72-7.72 1.47 1.35L5.41 20z\"/>\n",
              "  </svg>\n",
              "      </button>\n",
              "      \n",
              "  <style>\n",
              "    .colab-df-container {\n",
              "      display:flex;\n",
              "      flex-wrap:wrap;\n",
              "      gap: 12px;\n",
              "    }\n",
              "\n",
              "    .colab-df-convert {\n",
              "      background-color: #E8F0FE;\n",
              "      border: none;\n",
              "      border-radius: 50%;\n",
              "      cursor: pointer;\n",
              "      display: none;\n",
              "      fill: #1967D2;\n",
              "      height: 32px;\n",
              "      padding: 0 0 0 0;\n",
              "      width: 32px;\n",
              "    }\n",
              "\n",
              "    .colab-df-convert:hover {\n",
              "      background-color: #E2EBFA;\n",
              "      box-shadow: 0px 1px 2px rgba(60, 64, 67, 0.3), 0px 1px 3px 1px rgba(60, 64, 67, 0.15);\n",
              "      fill: #174EA6;\n",
              "    }\n",
              "\n",
              "    [theme=dark] .colab-df-convert {\n",
              "      background-color: #3B4455;\n",
              "      fill: #D2E3FC;\n",
              "    }\n",
              "\n",
              "    [theme=dark] .colab-df-convert:hover {\n",
              "      background-color: #434B5C;\n",
              "      box-shadow: 0px 1px 3px 1px rgba(0, 0, 0, 0.15);\n",
              "      filter: drop-shadow(0px 1px 2px rgba(0, 0, 0, 0.3));\n",
              "      fill: #FFFFFF;\n",
              "    }\n",
              "  </style>\n",
              "\n",
              "      <script>\n",
              "        const buttonEl =\n",
              "          document.querySelector('#df-bf1e748e-4b4c-4d7e-b4ae-9f56b3274532 button.colab-df-convert');\n",
              "        buttonEl.style.display =\n",
              "          google.colab.kernel.accessAllowed ? 'block' : 'none';\n",
              "\n",
              "        async function convertToInteractive(key) {\n",
              "          const element = document.querySelector('#df-bf1e748e-4b4c-4d7e-b4ae-9f56b3274532');\n",
              "          const dataTable =\n",
              "            await google.colab.kernel.invokeFunction('convertToInteractive',\n",
              "                                                     [key], {});\n",
              "          if (!dataTable) return;\n",
              "\n",
              "          const docLinkHtml = 'Like what you see? Visit the ' +\n",
              "            '<a target=\"_blank\" href=https://colab.research.google.com/notebooks/data_table.ipynb>data table notebook</a>'\n",
              "            + ' to learn more about interactive tables.';\n",
              "          element.innerHTML = '';\n",
              "          dataTable['output_type'] = 'display_data';\n",
              "          await google.colab.output.renderOutput(dataTable, element);\n",
              "          const docLink = document.createElement('div');\n",
              "          docLink.innerHTML = docLinkHtml;\n",
              "          element.appendChild(docLink);\n",
              "        }\n",
              "      </script>\n",
              "    </div>\n",
              "  </div>\n",
              "  "
            ]
          },
          "metadata": {},
          "execution_count": 720
        }
      ]
    },
    {
      "cell_type": "code",
      "source": [
        "X.shape,Y.shape"
      ],
      "metadata": {
        "colab": {
          "base_uri": "https://localhost:8080/"
        },
        "id": "l4lr5TbC8E0U",
        "outputId": "d8ec273e-ef72-468f-ed86-371e32079e6c"
      },
      "execution_count": null,
      "outputs": [
        {
          "output_type": "execute_result",
          "data": {
            "text/plain": [
              "((41925, 44), (41925,))"
            ]
          },
          "metadata": {},
          "execution_count": 721
        }
      ]
    },
    {
      "cell_type": "markdown",
      "metadata": {
        "id": "PM4XGCkgSqaf"
      },
      "source": [
        "# Hold-out"
      ]
    },
    {
      "cell_type": "code",
      "execution_count": null,
      "metadata": {
        "id": "OcBCBGQHOJIi"
      },
      "outputs": [],
      "source": [
        "# Splitting data into training and testing data set\n",
        "x_train, x_test,y_train,y_test = train_test_split(X,Y, test_size=0.2,random_state=40)"
      ]
    },
    {
      "cell_type": "code",
      "execution_count": null,
      "metadata": {
        "colab": {
          "base_uri": "https://localhost:8080/"
        },
        "id": "j49xapYzgSeh",
        "outputId": "e43ee2af-e351-473a-8503-5520b258b032"
      },
      "outputs": [
        {
          "output_type": "execute_result",
          "data": {
            "text/plain": [
              "LogisticRegression(max_iter=500)"
            ]
          },
          "metadata": {},
          "execution_count": 723
        }
      ],
      "source": [
        "#Logistic regression and fit the model\n",
        "model = LogisticRegression(max_iter=500)\n",
        "model.fit(X,Y)\n",
        "\n",
        "# classifier.write_to_pickle('path of file.pkl')\n",
        "# classifier.save('Model.hd5')"
      ]
    },
    {
      "cell_type": "code",
      "execution_count": null,
      "metadata": {
        "id": "nph30XFgapOs"
      },
      "outputs": [],
      "source": [
        "# save the model to disk\n",
        "filename = 'finalized_model.sav'\n",
        "pickle.dump(model, open(filename, 'wb'))"
      ]
    },
    {
      "cell_type": "code",
      "execution_count": null,
      "metadata": {
        "colab": {
          "base_uri": "https://localhost:8080/"
        },
        "id": "s0zRgneIgSej",
        "outputId": "c709157c-47bd-4005-ebcd-f3afa4eabf1f"
      },
      "outputs": [
        {
          "output_type": "execute_result",
          "data": {
            "text/plain": [
              "(8385,)"
            ]
          },
          "metadata": {},
          "execution_count": 725
        }
      ],
      "source": [
        "#Predict for X dataset\n",
        "pickle.load(open(filename, 'rb'))\n",
        "# classifier.read_pickle_file('/content/finalized_model.sav')\n",
        "y_pred = model.predict(x_test)\n",
        "y_pred.shape"
      ]
    },
    {
      "cell_type": "code",
      "source": [
        "prediction=[round(value) for value in y_pred]\n",
        "#prediction"
      ],
      "metadata": {
        "id": "2W077p1z1uXb"
      },
      "execution_count": null,
      "outputs": []
    },
    {
      "cell_type": "code",
      "execution_count": null,
      "metadata": {
        "colab": {
          "base_uri": "https://localhost:8080/"
        },
        "id": "AEum_2WVPOQ4",
        "outputId": "666d4769-0925-490e-b325-3861f6617550"
      },
      "outputs": [
        {
          "output_type": "stream",
          "name": "stdout",
          "text": [
            "Accuracy: 91.87%\n"
          ]
        }
      ],
      "source": [
        "# evaluate predictions\n",
        "accuracy = accuracy_score(y_test, prediction)\n",
        "print(\"Accuracy: %.2f%%\" % (accuracy * 100.0))"
      ]
    },
    {
      "cell_type": "code",
      "execution_count": null,
      "metadata": {
        "id": "0vgqAkcUgSek"
      },
      "outputs": [],
      "source": [
        "y_pred_df= pd.DataFrame({'actual': Y,\n",
        "                         'predicted_prob': model.predict(X)})"
      ]
    },
    {
      "cell_type": "code",
      "execution_count": null,
      "metadata": {
        "colab": {
          "base_uri": "https://localhost:8080/"
        },
        "id": "P9UZWWTfN8pS",
        "outputId": "369ec73a-f453-46b2-b5c8-1814f9492962"
      },
      "outputs": [
        {
          "output_type": "stream",
          "name": "stdout",
          "text": [
            "              precision    recall  f1-score   support\n",
            "\n",
            "           0       0.93      0.98      0.96      7672\n",
            "           1       0.55      0.22      0.32       713\n",
            "\n",
            "    accuracy                           0.92      8385\n",
            "   macro avg       0.74      0.60      0.64      8385\n",
            "weighted avg       0.90      0.92      0.90      8385\n",
            "\n"
          ]
        }
      ],
      "source": [
        "Classification_report = classification_report(y_test,y_pred)\n",
        "clsreport = print(Classification_report)"
      ]
    },
    {
      "cell_type": "code",
      "execution_count": null,
      "metadata": {
        "id": "G7gpJaDsgSen"
      },
      "outputs": [],
      "source": [
        "# ROC Curve"
      ]
    },
    {
      "cell_type": "code",
      "execution_count": null,
      "metadata": {
        "colab": {
          "base_uri": "https://localhost:8080/",
          "height": 296
        },
        "id": "Rxi9EzrbgSeo",
        "outputId": "71fce11e-9ea3-48f7-aa78-b90bc393008a"
      },
      "outputs": [
        {
          "output_type": "execute_result",
          "data": {
            "text/plain": [
              "Text(0, 0.5, 'True Positive Rate')"
            ]
          },
          "metadata": {},
          "execution_count": 731
        },
        {
          "output_type": "display_data",
          "data": {
            "text/plain": [
              "<Figure size 432x288 with 1 Axes>"
            ],
            "image/png": "[encoded data removed]"
          },
          "metadata": {
            "needs_background": "light"
          }
        }
      ],
      "source": [
        "\n",
        "fpr, tpr, thresholds = roc_curve(Y, model.predict_proba (X)[:,1])\n",
        "\n",
        "auc = roc_auc_score(y_test, y_pred)\n",
        "\n",
        "\n",
        "plt.plot(fpr, tpr, color='red', label='logit model ( area  = %0.2f)'%auc)\n",
        "plt.plot([0, 1], [0, 1], 'k--')\n",
        "plt.xlabel('False Positive Rate or [1 - True Negative Rate]')\n",
        "plt.ylabel('True Positive Rate')"
      ]
    },
    {
      "cell_type": "code",
      "execution_count": null,
      "metadata": {
        "colab": {
          "base_uri": "https://localhost:8080/"
        },
        "id": "HF-swMWxgSeo",
        "outputId": "a12b8581-6ef0-4f4d-c037-07a9ee07a727"
      },
      "outputs": [
        {
          "output_type": "execute_result",
          "data": {
            "text/plain": [
              "0.603158678321709"
            ]
          },
          "metadata": {},
          "execution_count": 732
        }
      ],
      "source": [
        "auc"
      ]
    },
    {
      "cell_type": "code",
      "source": [
        "cm = confusion_matrix(y_test, y_pred)\n",
        "sns.heatmap(cm, fmt='g', annot=True)\n",
        "accuracy=accuracy_score(y_test, y_pred)\n",
        "\n",
        "plt.title('Logistic Regression', size = 20)\n",
        "\n",
        "# Adding figure labels\n",
        "plt.ylabel('Actual Values')\n",
        "plt.xlabel('Predicted Values \\n \\n Accuracy: {}'.format(round(accuracy, 4)))\n",
        "plt.show()"
      ],
      "metadata": {
        "colab": {
          "base_uri": "https://localhost:8080/",
          "height": 324
        },
        "id": "LoqqzYbiqIt4",
        "outputId": "12b5c0ef-674c-460f-b379-9ce7238573b1"
      },
      "execution_count": null,
      "outputs": [
        {
          "output_type": "display_data",
          "data": {
            "text/plain": [
              "<Figure size 432x288 with 2 Axes>"
            ],
            "image/png": "[encoded data removed]"
          },
          "metadata": {
            "needs_background": "light"
          }
        }
      ]
    },
    {
      "cell_type": "markdown",
      "metadata": {
        "id": "QrqBnfq5Jj2p"
      },
      "source": [
        "# K-folds-cross-validation\n",
        "\n"
      ]
    },
    {
      "cell_type": "code",
      "execution_count": null,
      "metadata": {
        "id": "vMXYIVXySzVY",
        "colab": {
          "base_uri": "https://localhost:8080/"
        },
        "outputId": "6553c62a-78c1-4ba4-b078-ba12d742ceaa"
      },
      "outputs": [
        {
          "output_type": "stream",
          "name": "stderr",
          "text": [
            "/usr/local/lib/python3.7/dist-packages/sklearn/linear_model/_logistic.py:818: ConvergenceWarning: lbfgs failed to converge (status=1):\n",
            "STOP: TOTAL NO. of ITERATIONS REACHED LIMIT.\n",
            "\n",
            "Increase the number of iterations (max_iter) or scale the data as shown in:\n",
            "    https://scikit-learn.org/stable/modules/preprocessing.html\n",
            "Please also refer to the documentation for alternative solver options:\n",
            "    https://scikit-learn.org/stable/modules/linear_model.html#logistic-regression\n",
            "  extra_warning_msg=_LOGISTIC_SOLVER_CONVERGENCE_MSG,\n",
            "/usr/local/lib/python3.7/dist-packages/sklearn/linear_model/_logistic.py:818: ConvergenceWarning: lbfgs failed to converge (status=1):\n",
            "STOP: TOTAL NO. of ITERATIONS REACHED LIMIT.\n",
            "\n",
            "Increase the number of iterations (max_iter) or scale the data as shown in:\n",
            "    https://scikit-learn.org/stable/modules/preprocessing.html\n",
            "Please also refer to the documentation for alternative solver options:\n",
            "    https://scikit-learn.org/stable/modules/linear_model.html#logistic-regression\n",
            "  extra_warning_msg=_LOGISTIC_SOLVER_CONVERGENCE_MSG,\n",
            "/usr/local/lib/python3.7/dist-packages/sklearn/linear_model/_logistic.py:818: ConvergenceWarning: lbfgs failed to converge (status=1):\n",
            "STOP: TOTAL NO. of ITERATIONS REACHED LIMIT.\n",
            "\n",
            "Increase the number of iterations (max_iter) or scale the data as shown in:\n",
            "    https://scikit-learn.org/stable/modules/preprocessing.html\n",
            "Please also refer to the documentation for alternative solver options:\n",
            "    https://scikit-learn.org/stable/modules/linear_model.html#logistic-regression\n",
            "  extra_warning_msg=_LOGISTIC_SOLVER_CONVERGENCE_MSG,\n",
            "/usr/local/lib/python3.7/dist-packages/sklearn/linear_model/_logistic.py:818: ConvergenceWarning: lbfgs failed to converge (status=1):\n",
            "STOP: TOTAL NO. of ITERATIONS REACHED LIMIT.\n",
            "\n",
            "Increase the number of iterations (max_iter) or scale the data as shown in:\n",
            "    https://scikit-learn.org/stable/modules/preprocessing.html\n",
            "Please also refer to the documentation for alternative solver options:\n",
            "    https://scikit-learn.org/stable/modules/linear_model.html#logistic-regression\n",
            "  extra_warning_msg=_LOGISTIC_SOLVER_CONVERGENCE_MSG,\n",
            "/usr/local/lib/python3.7/dist-packages/sklearn/linear_model/_logistic.py:818: ConvergenceWarning: lbfgs failed to converge (status=1):\n",
            "STOP: TOTAL NO. of ITERATIONS REACHED LIMIT.\n",
            "\n",
            "Increase the number of iterations (max_iter) or scale the data as shown in:\n",
            "    https://scikit-learn.org/stable/modules/preprocessing.html\n",
            "Please also refer to the documentation for alternative solver options:\n",
            "    https://scikit-learn.org/stable/modules/linear_model.html#logistic-regression\n",
            "  extra_warning_msg=_LOGISTIC_SOLVER_CONVERGENCE_MSG,\n"
          ]
        },
        {
          "output_type": "execute_result",
          "data": {
            "text/plain": [
              "array([0.91469115, 0.89348915, 0.85990983, 0.89831357, 0.87894473,\n",
              "       0.80597763, 0.79579229])"
            ]
          },
          "metadata": {},
          "execution_count": 734
        }
      ],
      "source": [
        "scores = cross_val_score(model,X,Y, cv=7)\n",
        "scores"
      ]
    },
    {
      "cell_type": "code",
      "execution_count": null,
      "metadata": {
        "id": "aGo22-P7TkM4",
        "colab": {
          "base_uri": "https://localhost:8080/"
        },
        "outputId": "825ed04a-afb6-462f-fe32-6b3e72c0bd1d"
      },
      "outputs": [
        {
          "output_type": "execute_result",
          "data": {
            "text/plain": [
              "86.38740505140257"
            ]
          },
          "metadata": {},
          "execution_count": 735
        }
      ],
      "source": [
        "scores.mean()*100"
      ]
    }
  ],
  "metadata": {
    "colab": {
      "collapsed_sections": [
        "tONatsLZWy4e",
        "gN33HmkBPMru",
        "q40rWa7CxWd2"
      ],
      "provenance": []
    },
    "kernelspec": {
      "display_name": "Python 3",
      "language": "python",
      "name": "python3"
    },
    "language_info": {
      "codemirror_mode": {
        "name": "ipython",
        "version": 3
      },
      "file_extension": ".py",
      "mimetype": "text/x-python",
      "name": "python",
      "nbconvert_exporter": "python",
      "pygments_lexer": "ipython3",
      "version": "3.7.4"
    }
  },
  "nbformat": 4,
  "nbformat_minor": 0
}